{
 "cells": [
  {
   "cell_type": "markdown",
   "metadata": {},
   "source": [
    "# Task 1"
   ]
  },
  {
   "cell_type": "code",
   "execution_count": 94,
   "metadata": {},
   "outputs": [
    {
     "data": {
      "text/plain": [
       "23331668"
      ]
     },
     "execution_count": 94,
     "metadata": {},
     "output_type": "execute_result"
    }
   ],
   "source": [
    "def sumThreeFive(n):\n",
    "    summa = 0\n",
    "    for i in range(1,n):\n",
    "        if (i % 3) == 0 or (i % 5) == 0:\n",
    "            summa+=i\n",
    "    return summa\n",
    "sumThreeFive(10000)"
   ]
  },
  {
   "cell_type": "markdown",
   "metadata": {},
   "source": [
    "# Task 2"
   ]
  },
  {
   "cell_type": "code",
   "execution_count": 674,
   "metadata": {},
   "outputs": [],
   "source": [
    "M = {1: 1, 2: 2}\n",
    "\n",
    "def fib(n):\n",
    "    if n in M:\n",
    "        return M[n]\n",
    "    M[n] = fib(n - 1) + fib(n - 2)\n",
    "    return M[n]"
   ]
  },
  {
   "cell_type": "code",
   "execution_count": 678,
   "metadata": {},
   "outputs": [
    {
     "data": {
      "text/plain": [
       "453973694165307953197296969697410619233826"
      ]
     },
     "execution_count": 678,
     "metadata": {},
     "output_type": "execute_result"
    }
   ],
   "source": [
    "fib(200)"
   ]
  },
  {
   "cell_type": "markdown",
   "metadata": {},
   "source": [
    "# Task 3"
   ]
  },
  {
   "cell_type": "code",
   "execution_count": 725,
   "metadata": {},
   "outputs": [
    {
     "data": {
      "text/plain": [
       "{'ааклн': ['калан', 'канал', 'ланка', 'накал'],\n",
       " 'аакр': ['арак', 'арка', 'кара', 'рака'],\n",
       " 'аборт': ['аборт', 'обрат', 'табор', 'торба'],\n",
       " 'аворт': ['автор', 'втора', 'отвар', 'рвота', 'тавро', 'товар'],\n",
       " 'аекст': ['секта', 'сетка', 'стека', 'тесак'],\n",
       " 'корт': ['корт', 'крот', 'торк', 'трок'],\n",
       " 'орст': ['рост', 'сорт', 'торс', 'трос']}"
      ]
     },
     "execution_count": 725,
     "metadata": {},
     "output_type": "execute_result"
    }
   ],
   "source": [
    "import pandas as pd\n",
    "import numpy as np\n",
    "\n",
    "file_ = open('words-list-russian.txt', 'r')\n",
    "file_obj = file_.readlines()\n",
    "file_.close()\n",
    "\n",
    "#Запишем слова в массив, избавившись от символа переноса строки\n",
    "words = []\n",
    "for word in file_obj: \n",
    "    words.append(word.strip())\n",
    "\n",
    "# Отсортируем слова для последующего отбора ключей для анаграмм\n",
    "words_sort = []\n",
    "for word in words: \n",
    "    words_sort.append(''.join(sorted(word)))\n",
    "words_sort_tup = tuple(words_sort)\n",
    "\n",
    "#words_keys = np.unique(words_sort)\n",
    "word_keys = set(words_sort)\n",
    "\n",
    "#Создадим словарь с ключами\n",
    "dict_words = dict()\n",
    "for value in word_keys:\n",
    "    temp = []\n",
    "    for c, word in enumerate(words_sort_tup,0):\n",
    "        if value == word:\n",
    "            temp.append(words[c])\n",
    "    if len(temp) > 3: \n",
    "        dict_words[value] = temp    \n",
    "dict_words"
   ]
  },
  {
   "cell_type": "markdown",
   "metadata": {},
   "source": [
    "# Task 4"
   ]
  },
  {
   "cell_type": "code",
   "execution_count": 181,
   "metadata": {},
   "outputs": [
    {
     "name": "stdout",
     "output_type": "stream",
     "text": [
      "{'картвел', 'торк', 'клот', 'скот', 'квас', 'тал', 'вар', 'отсек', 'кров', 'тавро', 'треск', 'карел', 'словак', 'орс', 'влас', 'лестовка', 'вест', 'секта', 'скол', 'колет', 'кастор', 'леска', 'отвал', 'кроат', 'рвота', 'трос', 'сверло', 'скатол', 'костра', 'орт', 'тело', 'лето', 'вес', 'трак', 'ков', 'верстак', 'тесак', 'окрас', 'вол', 'веко', 'солка', 'оса', 'латекс', 'аскер', 'ветка', 'автол', 'тавр', 'талес', 'воск', 'совет', 'вокал', 'втора', 'стека', 'сок', 'отсев', 'сток', 'сетка', 'секатор', 'старое', 'кал', 'стекло', 'леток', 'крот', 'лес', 'товар', 'рекостав', 'катер', 'торс', 'отвар', 'крест', 'карт', 'трок', 'солевар', 'кат', 'ветла', 'сера', 'весло', 'сверка', 'кларет', 'серв', 'ворс', 'лар', 'кресло', 'стек', 'тесло', 'ров', 'акр', 'корсет', 'тол', 'овал', 'вера', 'река', 'лавр', 'рота', 'вектор', 'сова', 'оскал', 'сев', 'корвет', 'кора', 'рол', 'кола', 'трал', 'стрела', 'стокер', 'вор', 'карст', 'трек', 'срок', 'арк', 'створка', 'лек', 'квестор', 'квота', 'рост', 'кол', 'левкас', 'склера', 'осек', 'корт', 'роса', 'верк', 'арест', 'ост', 'лоск', 'лов', 'век', 'сквер', 'село', 'креол', 'сор', 'стекловар', 'автор', 'севр', 'ваер', 'отвес', 'стрелок', 'лектор', 'валет', 'сорт', 'лерка', 'стела', 'сет', 'кот', 'скало'} 145\n"
     ]
    }
   ],
   "source": [
    "import itertools\n",
    "\n",
    "#Загруженные из файла \"words-list-russian.txt\" возьмем из предыдущего пункта. Они хранятся в переменной words\n",
    "#С помощью метода permutations библиотеки itertools получим всевозможные перестановки (различной длины и порядка)\n",
    "#букв из слова \"лекарство\", который запишем в лист cure_keys_list\n",
    "cure_keys_list = []\n",
    "for c in range(3,len('лекарство')+1):\n",
    "    for i in itertools.permutations('лекарство',c):\n",
    "        cure_keys_list.append(''.join(i))\n",
    "\n",
    "#Теперь воспользуемся встроенными функциями сравнениями set'ов. Ответ выведем в переменной ans\n",
    "ans = set(cure_keys)&set(words)\n",
    "print(ans, len(ans))"
   ]
  },
  {
   "cell_type": "markdown",
   "metadata": {},
   "source": [
    "# Task 5"
   ]
  },
  {
   "cell_type": "code",
   "execution_count": 636,
   "metadata": {},
   "outputs": [
    {
     "name": "stdout",
     "output_type": "stream",
     "text": [
      "['обруч', 'омуль', 'извоз', 'трапп', 'каппа', 'обкос', 'аттик', 'копал', 'канал', 'сагиб']\n",
      "Enter the word:омуль\n",
      "You guessed 2\n",
      "Enter the word:обруч\n",
      "You win\n",
      "Enter the word:обруч\n",
      "You guessed 2\n",
      "Enter the word:омуль\n",
      "You win\n",
      "Enter the word:извоз\n",
      "You win\n",
      "Enter the word:трапп\n",
      "You win\n",
      "Enter the word:каппа\n",
      "You win\n",
      "Enter the word:обкос\n",
      "You win\n",
      "Enter the word:аттик\n",
      "You win\n",
      "Enter the word:копал\n",
      "You win\n",
      "Enter the word:канал\n",
      "You win\n",
      "Enter the word:сагиб\n",
      "You win\n"
     ]
    }
   ],
   "source": [
    "import random\n",
    "#n is number of words in game\n",
    "n = 10\n",
    "five_letters = []\n",
    "game_words = []\n",
    "game_letters = []    \n",
    "#Выбираем слова из пяти букв\n",
    "for c, value in enumerate(set(words)):\n",
    "    if len(value) == 5:\n",
    "        five_letters.append(value)\n",
    "#Формируем лист из n слов\n",
    "for i in range(0,n):\n",
    "    c = random.randint(0,2069)\n",
    "    game_words.append(five_letters[c])\n",
    "#Разбиваем слова для игры на буквы\n",
    "for i in range(0,10):\n",
    "    game_letters.append(list(game_words[i]))\n",
    "#В бесконечном цикле будем спрашивать пользователя о его слове\n",
    "for i in game_letters:\n",
    "    while 1:\n",
    "        guess = input(\"Enter the word:\")\n",
    "        letters = list(guess)\n",
    "        if letters != i:\n",
    "            equal_letters = set(letters) & set(i)\n",
    "            print(\"You guessed %d\" %len(equal_letters))\n",
    "        else:\n",
    "            print(\"You win\")\n",
    "            break\n"
   ]
  },
  {
   "cell_type": "markdown",
   "metadata": {},
   "source": [
    "# Task 6"
   ]
  },
  {
   "cell_type": "code",
   "execution_count": null,
   "metadata": {},
   "outputs": [
    {
     "name": "stdout",
     "output_type": "stream",
     "text": [
      "Загадайте слово\n",
      "аэрон\n",
      "2\n",
      "бодяк\n",
      "0\n",
      "ажгон\n",
      "2\n",
      "лепка\n",
      "2\n",
      "кулич\n",
      "3\n",
      "спуск\n",
      "4\n",
      "искра\n",
      "5\n",
      "губан\n",
      "6\n",
      "туаль\n",
      "7\n",
      "толща\n"
     ]
    }
   ],
   "source": [
    "for c, value in enumerate(set(words)):\n",
    "    if len(value) == 5:\n",
    "        five_letters.append(value)\n",
    "five_symbols = []\n",
    "for i in range(0,len(five_letters)):\n",
    "    five_symbols.append(list(five_letters[i]))\n",
    "print(\"Загадайте слово\")\n",
    "while 1:\n",
    "    n = random.randint(0,len(five_letters)-1)\n",
    "    print(five_letters[n])\n",
    "    symbol = input()\n",
    "    if symbol == '!':\n",
    "        print('You win')\n",
    "    else:\n",
    "        five_letters.pop(n)"
   ]
  },
  {
   "cell_type": "code",
   "execution_count": 757,
   "metadata": {},
   "outputs": [
    {
     "data": {
      "text/plain": [
       "['песнь']"
      ]
     },
     "execution_count": 757,
     "metadata": {},
     "output_type": "execute_result"
    }
   ],
   "source": [
    "five_letters"
   ]
  },
  {
   "cell_type": "markdown",
   "metadata": {},
   "source": [
    "# Task 7"
   ]
  },
  {
   "cell_type": "code",
   "execution_count": 574,
   "metadata": {
    "collapsed": true
   },
   "outputs": [],
   "source": [
    "import re\n",
    "import urllib.request\n",
    "from bs4 import BeautifulSoup\n",
    "\n",
    "url = 'http://www.belstat.gov.by/ofitsialnaya-statistika/makroekonomika-i-okruzhayushchaya-sreda/natsionalnye-scheta/godovye-dannye_11/proizvodstvo-valovogo-vnutrennego-produkta/'\n",
    "html = urllib.request.urlopen(url).read()\n",
    "soup = BeautifulSoup(html, 'html.parser') #class object creation"
   ]
  },
  {
   "cell_type": "code",
   "execution_count": 575,
   "metadata": {},
   "outputs": [],
   "source": [
    "#Находим все, что относится к таблице с помощью тэга <p>\n",
    "part_1 = soup.find_all('p')"
   ]
  },
  {
   "cell_type": "code",
   "execution_count": 576,
   "metadata": {},
   "outputs": [],
   "source": [
    "#Находим в найденных данных только русскоязычные символы и цифры с помощью регулярного выражения\n",
    "#Помещаем в новый массив данные без пустых значений \n",
    "c=[]\n",
    "for i in part_1:\n",
    "    c.append(re.findall(r'\\d+|[А-Яа-я]+',str(i)))\n",
    "c_without_empty = [x for x in c if x]"
   ]
  },
  {
   "cell_type": "code",
   "execution_count": 577,
   "metadata": {},
   "outputs": [
    {
     "data": {
      "text/plain": [
       "['24', '01', '2018']"
      ]
     },
     "execution_count": 577,
     "metadata": {},
     "output_type": "execute_result"
    }
   ],
   "source": [
    "#Из таблицы видим, что последним числом является 9 993, поэтому все, что после него - выкидываем из листа\n",
    "last_data = c_without_empty.index(['9','993'])\n",
    "number = len(c_without_empty) - last_data - 1\n",
    "for i in range(0, number):\n",
    "    c_without_empty.pop()\n",
    "#Также выкидываем две первые строки с датами\n",
    "c_without_empty.pop(0)\n",
    "c_without_empty.pop(0)"
   ]
  },
  {
   "cell_type": "code",
   "execution_count": 578,
   "metadata": {},
   "outputs": [],
   "source": [
    "head = []\n",
    "lines = []\n",
    "values = []\n",
    "counter = 0\n",
    "#Будем вытаскивать название столбцов и одновременно удалять их из листа со значениями. Их 8 штук, поэтому цикл до 8\n",
    "while counter < 8:   \n",
    "    head.append(c_without_empty[0])\n",
    "    c_without_empty.pop(0)\n",
    "    counter += 1\n",
    "counter = 0\n",
    "#Названия строк имеют большую длину -> так можно определить, что это названия и таким образом вытащить названия строк\n",
    "while counter < len(c_without_empty):\n",
    "    if len(c_without_empty[counter])>2:\n",
    "        line = ''\n",
    "        for j in c_without_empty[counter]:\n",
    "            line += j + ' '\n",
    "        lines.append(line)\n",
    "        c_without_empty.pop(counter)\n",
    "        counter = counter -1\n",
    "    counter += 1\n",
    "#Вставим недостающее значение\n",
    "c_without_empty.insert(8, '')\n",
    "#Объединим числа и поставим между ними ,\n",
    "for c,i in enumerate(c_without_empty):\n",
    "    line = ''\n",
    "    for j in c_without_empty[c]:\n",
    "        line += j + ','\n",
    "    values.append(line)"
   ]
  },
  {
   "cell_type": "code",
   "execution_count": 579,
   "metadata": {},
   "outputs": [],
   "source": [
    "#Вставим пустые значения для первой строки\n",
    "counter = 0\n",
    "while counter < 8:\n",
    "    values.insert(0, '')\n",
    "    counter+=1"
   ]
  },
  {
   "cell_type": "code",
   "execution_count": 580,
   "metadata": {},
   "outputs": [],
   "source": [
    "#Сделаем reshape, так как вектор-столбец и вектор-строка - не одно и тоже\n",
    "x = np.reshape(values, (4, 8))\n",
    "head = np.reshape(head, (1,8))"
   ]
  },
  {
   "cell_type": "code",
   "execution_count": 581,
   "metadata": {},
   "outputs": [
    {
     "data": {
      "text/html": [
       "<div>\n",
       "<style>\n",
       "    .dataframe thead tr:only-child th {\n",
       "        text-align: right;\n",
       "    }\n",
       "\n",
       "    .dataframe thead th {\n",
       "        text-align: left;\n",
       "    }\n",
       "\n",
       "    .dataframe tbody tr th {\n",
       "        vertical-align: top;\n",
       "    }\n",
       "</style>\n",
       "<table border=\"1\" class=\"dataframe\">\n",
       "  <thead>\n",
       "    <tr style=\"text-align: right;\">\n",
       "      <th></th>\n",
       "      <th>2009</th>\n",
       "      <th>2010</th>\n",
       "      <th>2011</th>\n",
       "      <th>2012</th>\n",
       "      <th>2013</th>\n",
       "      <th>2014</th>\n",
       "      <th>2015</th>\n",
       "      <th>2016</th>\n",
       "    </tr>\n",
       "  </thead>\n",
       "  <tbody>\n",
       "    <tr>\n",
       "      <th>Валовой внутренний продукт</th>\n",
       "      <td></td>\n",
       "      <td></td>\n",
       "      <td></td>\n",
       "      <td></td>\n",
       "      <td></td>\n",
       "      <td></td>\n",
       "      <td></td>\n",
       "      <td></td>\n",
       "    </tr>\n",
       "    <tr>\n",
       "      <th>в текущих ценах млрд руб 2016 год млн руб</th>\n",
       "      <td>142,091,</td>\n",
       "      <td>170,466,</td>\n",
       "      <td>307,245,</td>\n",
       "      <td>547,617,</td>\n",
       "      <td>670,688,</td>\n",
       "      <td>805,793,</td>\n",
       "      <td>899,098,</td>\n",
       "      <td>94,949,</td>\n",
       "    </tr>\n",
       "    <tr>\n",
       "      <th>в сопоставимых ценах в процентах к предыдущему году</th>\n",
       "      <td></td>\n",
       "      <td>107,7,</td>\n",
       "      <td>105,5,</td>\n",
       "      <td>101,7,</td>\n",
       "      <td>101,0,</td>\n",
       "      <td>101,7,</td>\n",
       "      <td>96,2,</td>\n",
       "      <td>97,5,</td>\n",
       "    </tr>\n",
       "    <tr>\n",
       "      <th>Валовой внутренний продукт на душу населения тыс руб 2016 год рублей</th>\n",
       "      <td>14,946,</td>\n",
       "      <td>17,962,</td>\n",
       "      <td>32,433,</td>\n",
       "      <td>57,860,</td>\n",
       "      <td>70,852,</td>\n",
       "      <td>85,048,</td>\n",
       "      <td>94,745,</td>\n",
       "      <td>9,993,</td>\n",
       "    </tr>\n",
       "  </tbody>\n",
       "</table>\n",
       "</div>"
      ],
      "text/plain": [
       "                                                        2009      2010  \\\n",
       "Валовой внутренний продукт                                               \n",
       "в текущих ценах млрд руб 2016 год млн руб           142,091,  170,466,   \n",
       "в сопоставимых ценах в процентах к предыдущему ...              107,7,   \n",
       "Валовой внутренний продукт на душу населения ты...   14,946,   17,962,   \n",
       "\n",
       "                                                        2011      2012  \\\n",
       "Валовой внутренний продукт                                               \n",
       "в текущих ценах млрд руб 2016 год млн руб           307,245,  547,617,   \n",
       "в сопоставимых ценах в процентах к предыдущему ...    105,5,    101,7,   \n",
       "Валовой внутренний продукт на душу населения ты...   32,433,   57,860,   \n",
       "\n",
       "                                                        2013      2014  \\\n",
       "Валовой внутренний продукт                                               \n",
       "в текущих ценах млрд руб 2016 год млн руб           670,688,  805,793,   \n",
       "в сопоставимых ценах в процентах к предыдущему ...    101,0,    101,7,   \n",
       "Валовой внутренний продукт на душу населения ты...   70,852,   85,048,   \n",
       "\n",
       "                                                        2015     2016  \n",
       "Валовой внутренний продукт                                             \n",
       "в текущих ценах млрд руб 2016 год млн руб           899,098,  94,949,  \n",
       "в сопоставимых ценах в процентах к предыдущему ...     96,2,    97,5,  \n",
       "Валовой внутренний продукт на душу населения ты...   94,745,   9,993,  "
      ]
     },
     "execution_count": 581,
     "metadata": {},
     "output_type": "execute_result"
    }
   ],
   "source": [
    "df = pd.DataFrame(x,index=list(lines),columns=list(head))\n",
    "df"
   ]
  },
  {
   "cell_type": "code",
   "execution_count": null,
   "metadata": {
    "collapsed": true
   },
   "outputs": [],
   "source": []
  }
 ],
 "metadata": {
  "kernelspec": {
   "display_name": "Python 3",
   "language": "python",
   "name": "python3"
  },
  "language_info": {
   "codemirror_mode": {
    "name": "ipython",
    "version": 3
   },
   "file_extension": ".py",
   "mimetype": "text/x-python",
   "name": "python",
   "nbconvert_exporter": "python",
   "pygments_lexer": "ipython3",
   "version": "3.6.3"
  }
 },
 "nbformat": 4,
 "nbformat_minor": 2
}
