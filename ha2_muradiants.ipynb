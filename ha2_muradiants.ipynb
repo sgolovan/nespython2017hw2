{
 "cells": [
  {
   "cell_type": "markdown",
   "metadata": {},
   "source": [
    "### Task 1. SumThreeFive "
   ]
  },
  {
   "cell_type": "markdown",
   "metadata": {},
   "source": [
    "Напишите функцию, которая принимает один аргумент 𝑛 и возвращает сумму всех натуральных чисел, меньших 𝑛 и таких, которые делятся на 3 или на 5."
   ]
  },
  {
   "cell_type": "code",
   "execution_count": 1,
   "metadata": {},
   "outputs": [
    {
     "data": {
      "text/plain": [
       "23331668"
      ]
     },
     "execution_count": 1,
     "metadata": {},
     "output_type": "execute_result"
    }
   ],
   "source": [
    "def sumThreeFive(n):\n",
    "    sum35 = 0\n",
    "    for i in range(1,n):\n",
    "        if (i%3==0 or i%5==0):\n",
    "            sum35 += i\n",
    "    return sum35\n",
    "\n",
    "sumThreeFive(10000)"
   ]
  },
  {
   "cell_type": "markdown",
   "metadata": {},
   "source": [
    "### Task 2. Fibo"
   ]
  },
  {
   "cell_type": "markdown",
   "metadata": {},
   "source": [
    "Напишите функцию, которая принимает один аргумент 𝑛 и возвращает 𝑛-й член последовательности Фибоначчи. При этом запрещено использовать циклы (т. е. использование рекурсии обязательно)."
   ]
  },
  {
   "cell_type": "code",
   "execution_count": 2,
   "metadata": {},
   "outputs": [
    {
     "data": {
      "text/plain": [
       "10946"
      ]
     },
     "execution_count": 2,
     "metadata": {},
     "output_type": "execute_result"
    }
   ],
   "source": [
    "def fibo(n):\n",
    "    if (n == 1):\n",
    "        return (1)\n",
    "    elif (n == 2):\n",
    "        return (2)\n",
    "    return (fibo(n-1)+fibo(n-2))\n",
    "\n",
    "# It takes too long time to calculate fibo(200) with recursive function, so I will calculate fibo(20)\n",
    "fibo(20)"
   ]
  },
  {
   "cell_type": "markdown",
   "metadata": {},
   "source": [
    "### Task 3. Anagrams "
   ]
  },
  {
   "cell_type": "markdown",
   "metadata": {},
   "source": [
    "Напишите программу, которая загружает список слов из файла words-list-russian.txt и выводит на экран все классы анаграмм, состоящие не менее, чем из четырех слов."
   ]
  },
  {
   "cell_type": "code",
   "execution_count": 3,
   "metadata": {},
   "outputs": [
    {
     "data": {
      "text/plain": [
       "[['аборт', 'обрат', 'табор', 'торба'],\n",
       " ['автор', 'втора', 'отвар', 'рвота', 'тавро', 'товар'],\n",
       " ['арак', 'арка', 'кара', 'рака'],\n",
       " ['калан', 'канал', 'ланка', 'накал'],\n",
       " ['корт', 'крот', 'торк', 'трок'],\n",
       " ['рост', 'сорт', 'торс', 'трос'],\n",
       " ['секта', 'сетка', 'стека', 'тесак']]"
      ]
     },
     "execution_count": 3,
     "metadata": {},
     "output_type": "execute_result"
    }
   ],
   "source": [
    "def anagrams(name):\n",
    "    \n",
    "    # Read table\n",
    "    import pandas as pd\n",
    "    df = (pd.read_table(name, header = None))[0].tolist()\n",
    "    data = []\n",
    "    anagr = []\n",
    "\n",
    "    # Sort letters in these words in alphabetic order\n",
    "    for word in df:\n",
    "            word.split()\n",
    "            word = ''.join(sorted(word))\n",
    "            data.append(word)\n",
    "\n",
    "    # Find words with similar letters and include only class of words with at least 4 anagrams\n",
    "    for i in range(len(df)):\n",
    "        anagr1 = [df[i]]\n",
    "        for j in range(i+1,len(df)):\n",
    "            if data[i] == data[j]:\n",
    "                anagr1.append(df[j])\n",
    "        if len(anagr1) >= 4:\n",
    "            anagr.append(anagr1)\n",
    "    \n",
    "    # Clear from repeated anagram classes identifying repetitions by last element\n",
    "    final = []\n",
    "    for i in range(len(anagr)):\n",
    "        if all(list(set(anagr[j])&set(anagr[i]))==[] for j in range(i)):\n",
    "            final.append(anagr[i])\n",
    "\n",
    "    return final\n",
    "\n",
    "anagrams(\"words-list-russian.txt\")"
   ]
  },
  {
   "cell_type": "markdown",
   "metadata": {},
   "source": [
    "### Task 4.  TypeSetter"
   ]
  },
  {
   "cell_type": "markdown",
   "metadata": {},
   "source": [
    "Игра состоит в том, чтобы найти как можно больше слов,\n",
    "которые можно составить из букв, входящих в заданное слово. Например, из букв слова\n",
    "«кильватер» можно составить такие слова как «киль», «кит», «литр» и другие.\n",
    "Напишите программу, которая загружает список слов из файла words-list-russian.txt\n",
    "и выводит на экран все слова, которые можно сложить из букв слова «лекарство»."
   ]
  },
  {
   "cell_type": "code",
   "execution_count": 4,
   "metadata": {},
   "outputs": [
    {
     "name": "stdout",
     "output_type": "stream",
     "text": [
      "Число слов, составленных из слова 'лекарство': 147\n"
     ]
    },
    {
     "data": {
      "text/plain": [
       "['автол',\n",
       " 'автор',\n",
       " 'акр',\n",
       " 'ар',\n",
       " 'арест',\n",
       " 'арк',\n",
       " 'аскер',\n",
       " 'ваер',\n",
       " 'валет',\n",
       " 'вар',\n",
       " 'век',\n",
       " 'веко',\n",
       " 'вектор',\n",
       " 'вера',\n",
       " 'верк',\n",
       " 'верстак',\n",
       " 'вес',\n",
       " 'весло',\n",
       " 'вест',\n",
       " 'ветка',\n",
       " 'ветла',\n",
       " 'влас',\n",
       " 'вокал',\n",
       " 'вол',\n",
       " 'вор',\n",
       " 'ворс',\n",
       " 'воск',\n",
       " 'втора',\n",
       " 'ер',\n",
       " 'кал',\n",
       " 'карел',\n",
       " 'карст',\n",
       " 'карт',\n",
       " 'картвел',\n",
       " 'кастор',\n",
       " 'кат',\n",
       " 'катер',\n",
       " 'квас',\n",
       " 'квестор',\n",
       " 'квота',\n",
       " 'кларет',\n",
       " 'клот',\n",
       " 'ков',\n",
       " 'кол',\n",
       " 'кола',\n",
       " 'колет',\n",
       " 'кора',\n",
       " 'корвет',\n",
       " 'корсет',\n",
       " 'корт',\n",
       " 'костра',\n",
       " 'кот',\n",
       " 'креол',\n",
       " 'кресло',\n",
       " 'крест',\n",
       " 'кроат',\n",
       " 'кров',\n",
       " 'крот',\n",
       " 'лавр',\n",
       " 'лар',\n",
       " 'латекс',\n",
       " 'левкас',\n",
       " 'лек',\n",
       " 'лектор',\n",
       " 'лерка',\n",
       " 'лес',\n",
       " 'леска',\n",
       " 'лестовка',\n",
       " 'лето',\n",
       " 'леток',\n",
       " 'лов',\n",
       " 'лоск',\n",
       " 'овал',\n",
       " 'окрас',\n",
       " 'орс',\n",
       " 'орт',\n",
       " 'оса',\n",
       " 'осек',\n",
       " 'оскал',\n",
       " 'ост',\n",
       " 'отвал',\n",
       " 'отвар',\n",
       " 'отвес',\n",
       " 'отсев',\n",
       " 'отсек',\n",
       " 'рвота',\n",
       " 'река',\n",
       " 'рекостав',\n",
       " 'ров',\n",
       " 'рол',\n",
       " 'роса',\n",
       " 'рост',\n",
       " 'рота',\n",
       " 'сверка',\n",
       " 'сверло',\n",
       " 'сев',\n",
       " 'севр',\n",
       " 'секатор',\n",
       " 'секта',\n",
       " 'село',\n",
       " 'сера',\n",
       " 'серв',\n",
       " 'сет',\n",
       " 'сетка',\n",
       " 'скало',\n",
       " 'скатол',\n",
       " 'сквер',\n",
       " 'склера',\n",
       " 'скол',\n",
       " 'скот',\n",
       " 'словак',\n",
       " 'сова',\n",
       " 'совет',\n",
       " 'сок',\n",
       " 'солевар',\n",
       " 'солка',\n",
       " 'сор',\n",
       " 'сорт',\n",
       " 'срок',\n",
       " 'старое',\n",
       " 'створка',\n",
       " 'стек',\n",
       " 'стека',\n",
       " 'стекло',\n",
       " 'стекловар',\n",
       " 'стела',\n",
       " 'сток',\n",
       " 'стокер',\n",
       " 'стрела',\n",
       " 'стрелок',\n",
       " 'тавр',\n",
       " 'тавро',\n",
       " 'тал',\n",
       " 'талес',\n",
       " 'тело',\n",
       " 'тесак',\n",
       " 'тесло',\n",
       " 'товар',\n",
       " 'тол',\n",
       " 'торк',\n",
       " 'торс',\n",
       " 'трак',\n",
       " 'трал',\n",
       " 'трек',\n",
       " 'треск',\n",
       " 'трок',\n",
       " 'трос']"
      ]
     },
     "execution_count": 4,
     "metadata": {},
     "output_type": "execute_result"
    }
   ],
   "source": [
    "def TypeSetter(source, word):\n",
    "    \n",
    "    # Read table & the base word\n",
    "    import pandas as pd\n",
    "    df = (pd.read_table(source, header = None))[0].tolist()\n",
    "    letters = []\n",
    "\n",
    "    # Let's count number of certain letters in the base word\n",
    "    word_dic = {}\n",
    "    for i in word:\n",
    "        if i not in word_dic:\n",
    "            word_dic[i] = 1\n",
    "        if i in word_dic:\n",
    "            word_dic[i] =+ 1\n",
    "    \n",
    "    # Now let's make a loop and compare words from list with our base word\n",
    "    final = []\n",
    "    for i in df:\n",
    "        letters = {}\n",
    "        count = 0\n",
    "        for j in i:\n",
    "            if j not in letters:\n",
    "                letters[j] = 1\n",
    "            elif j in letters:\n",
    "                letters[j] += 1\n",
    "        for k,v in letters.items():\n",
    "            if (k in word_dic) and (v <= word_dic[k]):\n",
    "                count += 1\n",
    "        if count == len(i):\n",
    "            final.append(i)\n",
    "    print('Число слов, составленных из слова \\'%s\\': %s' % (word, len(final)))\n",
    "    return final\n",
    "\n",
    "TypeSetter(\"words-list-russian.txt\", \"лекарство\")"
   ]
  },
  {
   "cell_type": "markdown",
   "metadata": {},
   "source": [
    "### Task 5.  GuessWord 1"
   ]
  },
  {
   "cell_type": "code",
   "execution_count": 5,
   "metadata": {},
   "outputs": [
    {
     "name": "stdout",
     "output_type": "stream",
     "text": [
      "['багор']\n",
      "Введите слово: книга\n",
      "2\n",
      "Введите слово: забор\n",
      "Не знаю такого слова\n",
      "Введите слово: багор\n",
      "!\n",
      "Угадали с попытки номер 3\n"
     ]
    },
    {
     "data": {
      "text/plain": [
       "['багор']"
      ]
     },
     "execution_count": 5,
     "metadata": {},
     "output_type": "execute_result"
    }
   ],
   "source": [
    "def guessword(source):\n",
    "    \n",
    "    import random\n",
    "    import pandas as pd\n",
    "    df = (pd.read_table(source, header = None))[0].tolist()\n",
    "\n",
    "    # Choose only words with length 5\n",
    "    df = [i for i in df if len(i) == 5]\n",
    "    \n",
    "    playing = True\n",
    "    word = random.sample(df,1)\n",
    "    guesses = 0\n",
    "    \n",
    "    print(word)\n",
    "    while playing:\n",
    "        count = 0\n",
    "        user_guess = input('Введите слово: ')\n",
    "        if user_guess == 'закончить':\n",
    "            break\n",
    "        elif user_guess not in df:\n",
    "            print('Не знаю такого слова')\n",
    "            guesses += 1\n",
    "            continue\n",
    "        for element in user_guess:\n",
    "            if element in [i for i in str(word)]:\n",
    "                count += 1\n",
    "        guesses += 1\n",
    "        if count == 5:\n",
    "            playing = False\n",
    "            print('!')\n",
    "            print('Угадали с попытки номер %s' %guesses)\n",
    "        else: print(count)\n",
    "    \n",
    "    return word\n",
    "\n",
    "guessword(\"words-list-russian.txt\")"
   ]
  },
  {
   "cell_type": "markdown",
   "metadata": {},
   "source": [
    "### Task 6.  GuessWord 2"
   ]
  },
  {
   "cell_type": "code",
   "execution_count": 6,
   "metadata": {},
   "outputs": [
    {
     "name": "stdout",
     "output_type": "stream",
     "text": [
      "['слизь']\n",
      "Начинаю угадывать!\n",
      "слезь\n",
      "Не знаю такого слова\n",
      "книга\n",
      "Введите число совпадающих букв: 1\n",
      "забор\n",
      "Не знаю такого слова\n",
      "багор\n",
      "Введите число совпадающих букв: 0\n",
      "слизь\n",
      "!\n",
      "Я угадал с попытки номер 5\n"
     ]
    },
    {
     "data": {
      "text/plain": [
       "['слизь']"
      ]
     },
     "execution_count": 6,
     "metadata": {},
     "output_type": "execute_result"
    }
   ],
   "source": [
    "def guessword(source):\n",
    "    \n",
    "    import random\n",
    "    import pandas as pd\n",
    "    df = (pd.read_table(source, header = None))[0].tolist()\n",
    "\n",
    "    # Choose only words with length 5\n",
    "    df = [i for i in df if len(i) == 5]\n",
    "    \n",
    "    playing = True\n",
    "    word = random.sample(df,1)\n",
    "    guesses = 0\n",
    "    \n",
    "    print(word)\n",
    "    print('Начинаю угадывать!')\n",
    "    while playing:\n",
    "        count = 0\n",
    "        user_guess = input()\n",
    "        if user_guess == 'закончить':\n",
    "            break\n",
    "        elif user_guess not in df:\n",
    "            print('Не знаю такого слова')\n",
    "            guesses += 1\n",
    "            continue\n",
    "        for element in user_guess:\n",
    "            if element in [i for i in str(word)]:\n",
    "                count += 1\n",
    "        guesses += 1\n",
    "        if count == 5:\n",
    "            playing = False\n",
    "            print('!')\n",
    "            print('Я угадал с попытки номер %s' %guesses)\n",
    "        else: print('Введите число совпадающих букв: %s' %count)\n",
    "    \n",
    "    return word\n",
    "\n",
    "guessword(\"words-list-russian.txt\")"
   ]
  },
  {
   "cell_type": "markdown",
   "metadata": {
    "collapsed": true
   },
   "source": [
    "### Task 7. Web importing"
   ]
  },
  {
   "cell_type": "code",
   "execution_count": 7,
   "metadata": {},
   "outputs": [
    {
     "name": "stdout",
     "output_type": "stream",
     "text": [
      "\t2009\t2010\t2011\t2012\t2013\t2014\t2015\t2016\n",
      "Валовой внутренний продукт в текущих ценах,\t142091\t170466\t307245\t547617\t670688\t805793\t899098\t94949\n",
      "в сопоставимых ценах,\tx\t107.7\t105.5\t101.7\t101.0\t101.7\t96.2\t97.5\n",
      "Валовой внутренний продукт на душу населения, тыс. руб.\t14946\t17962\t32433\t57860\t70852\t85048\t94745\t9993\n"
     ]
    }
   ],
   "source": [
    "def BelarusGDP():\n",
    "\n",
    "    import urllib.request\n",
    "    from bs4 import BeautifulSoup\n",
    "\n",
    "    url = 'http://www.belstat.gov.by/ofitsialnaya-statistika/makroekonomika-i-okruzhayushchaya-sreda/natsionalnye-scheta/godovye-dannye_11/proizvodstvo-valovogo-vnutrennego-produkta/'\n",
    "    html = urllib.request.urlopen(url).read()\n",
    "    soup = BeautifulSoup(html, 'html.parser') #class object creation\n",
    "    tags = soup.find_all('p', href=False)\n",
    "    \n",
    "    # First line\n",
    "    data = []\n",
    "    for i in tags[2:11]:\n",
    "        data.append(i.contents[0].strip())\n",
    "    print('\\t'.join(data))\n",
    "\n",
    "    # Second line\n",
    "    data = []\n",
    "    start_of_second = tags[11].contents[0].strip()\n",
    "    for i in tags[20:29]:\n",
    "        data.append(i.contents[0].strip())\n",
    "    data[0] = start_of_second+\" \"+data[0]\n",
    "    for i in range(1,len(data)):\n",
    "        data[i] = data[i].replace(\" \",\"\").replace(u'\\xa0', '')\n",
    "    print('\\t'.join(data))\n",
    "\n",
    "    # Third line\n",
    "    data = []\n",
    "    for i in tags[29:38]:\n",
    "        data.append(i.contents[0].strip())\n",
    "    for i in range(1,len(data)):\n",
    "        data[i] = data[i].replace(\",\",\".\")\n",
    "    print('\\t'.join(data))\n",
    "\n",
    "    # Forth line\n",
    "    data = []\n",
    "    for i in tags[38:47]:\n",
    "        data.append(i.contents[0].strip())\n",
    "    for i in range(1,len(data)):\n",
    "        data[i] = data[i].replace(u'\\xa0', '')\n",
    "    print('\\t'.join(data))\n",
    "\n",
    "BelarusGDP()"
   ]
  }
 ],
 "metadata": {
  "kernelspec": {
   "display_name": "Python 3",
   "language": "python",
   "name": "python3"
  },
  "language_info": {
   "codemirror_mode": {
    "name": "ipython",
    "version": 3
   },
   "file_extension": ".py",
   "mimetype": "text/x-python",
   "name": "python",
   "nbconvert_exporter": "python",
   "pygments_lexer": "ipython3",
   "version": "3.6.3"
  }
 },
 "nbformat": 4,
 "nbformat_minor": 2
}
