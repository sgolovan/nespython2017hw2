{
 "cells": [
  {
   "cell_type": "markdown",
   "metadata": {},
   "source": [
    "## Домашняя работа 2, Менгден Алексей"
   ]
  },
  {
   "cell_type": "code",
   "execution_count": 1,
   "metadata": {
    "collapsed": true
   },
   "outputs": [],
   "source": [
    "#made by Mengden Alexey\n",
    "import numpy as np\n",
    "from collections import Counter\n",
    "import pandas as pd\n",
    "import sys\n",
    "import re\n",
    "import urllib.request\n",
    "from bs4 import BeautifulSoup\n",
    "import warnings\n",
    "warnings.filterwarnings('ignore')\n",
    "import random\n",
    "results={}"
   ]
  },
  {
   "cell_type": "markdown",
   "metadata": {},
   "source": [
    "# 1"
   ]
  },
  {
   "cell_type": "markdown",
   "metadata": {},
   "source": [
    "В данной задаче натуральное число i проверяется на равенству нулю остатка на 3 или на 5. Если условие удовлетворяется то добавляем это число в сумму."
   ]
  },
  {
   "cell_type": "code",
   "execution_count": 2,
   "metadata": {
    "collapsed": true
   },
   "outputs": [],
   "source": [
    "def sumThreeFive(n):\n",
    "    summa = 0\n",
    "    for i in range(n):\n",
    "        if (i % 3 == 0) or (i % 5 == 0):\n",
    "            summa += i\n",
    "    return summa"
   ]
  },
  {
   "cell_type": "code",
   "execution_count": 3,
   "metadata": {},
   "outputs": [
    {
     "data": {
      "text/plain": [
       "23331668"
      ]
     },
     "execution_count": 3,
     "metadata": {},
     "output_type": "execute_result"
    }
   ],
   "source": [
    "sumThreeFive(10000)"
   ]
  },
  {
   "cell_type": "markdown",
   "metadata": {},
   "source": [
    "# 2"
   ]
  },
  {
   "cell_type": "markdown",
   "metadata": {},
   "source": [
    "В данной задаче каждая подзадача вычисляется один раз (до выхода из функции). Таким образом получается линейный по времени алгоритм"
   ]
  },
  {
   "cell_type": "code",
   "execution_count": 4,
   "metadata": {},
   "outputs": [],
   "source": [
    "def subfibo(term,val ,prev):\n",
    "    if term == 0:\n",
    "        return prev\n",
    "    if term == 1:\n",
    "        return val\n",
    "    return subfibo(term - 1, val+prev, val);\n",
    "def fibo(n):\n",
    "    return subfibo(n,1,1)"
   ]
  },
  {
   "cell_type": "code",
   "execution_count": 6,
   "metadata": {},
   "outputs": [
    {
     "data": {
      "text/plain": [
       "453973694165307953197296969697410619233826"
      ]
     },
     "execution_count": 6,
     "metadata": {},
     "output_type": "execute_result"
    }
   ],
   "source": [
    "fibo(200)"
   ]
  },
  {
   "cell_type": "markdown",
   "metadata": {},
   "source": [
    "## 3 (Анаграммы)"
   ]
  },
  {
   "cell_type": "markdown",
   "metadata": {},
   "source": [
    "   Каждому слову из словаря ставится в соответствие массив ltrscount длинной 33 (количество букв в русском алфавите) и каждый элемент этого массива показывает сколько заданной буквы в текущем слове. Если слова являются анаграммами, то такие их массивы равны друг другу.\n",
    "Но быстрее сравниваются строки длиной n, чем массив такой же длины. В ltrsword хранится такая строка, полученная из массива ltrscount. То есть если ltrsword[i] = ltrsword[j], то такие слова являются анаграммами друг друга. \n",
    "    Далее нужно вывести слова-анаграммы друг друга в количестве больше 3. Ставим каждому элементу ltrswords классификатор -1. Если ltrsword[i] = ltrsword[j], то меняем его классификатор. Понятно,  что если следующий элемент имеет классификатор не равный -1, то мы его пропускаем так как он уже существует в каком то из классов слов-анаграмм.\n",
    "    Далее в массив d добавляем все классификаторы в которых больше 3 элемента."
   ]
  },
  {
   "cell_type": "code",
   "execution_count": 7,
   "metadata": {
    "collapsed": true
   },
   "outputs": [],
   "source": [
    "def anagrams(txtfile):\n",
    "    df = pd.read_csv(txtfile,header = None)[0].tolist()\n",
    "    ltrscount = [[0]*34 for i in range(len(df))]\n",
    "    ltrswords = [0]*len(df)\n",
    "    for i in range(len(df)):\n",
    "        for s in range(len(df[i])):\n",
    "            if df[i][s] != '-':\n",
    "                pos = ord(df[i][s])-ord('а')\n",
    "                ltrscount[i][pos] += 1\n",
    "        ltrswords[i] = ''.join(str(ltrscount[i]))\n",
    "    s = [-1] * len(ltrswords)\n",
    "    ind = 0\n",
    "    for c1, w1 in enumerate(ltrswords):\n",
    "        if c1 % 100 == 0:\n",
    "            sys.stdout.write('\\r%d%% clussnum = %d'%(c1/340, ind))\n",
    "        if s[c1] != -1:\n",
    "            continue\n",
    "        else:\n",
    "            s[c1] = ind\n",
    "        \n",
    "        for c2, w2 in enumerate(ltrswords[c1:]):\n",
    "            if s[c2+c1] != -1:\n",
    "                continue\n",
    "            if w1 == w2:\n",
    "                s[c2+c1] = ind\n",
    "        ind += 1    \n",
    "    indexes = list(filter(lambda x: x[1] > 3, sorted(Counter(s).items(), key = lambda x:-x[1]))) \n",
    "    d = []\n",
    "    for ind, o in indexes:\n",
    "        temp = []\n",
    "        for k, w in zip(s, df):\n",
    "            if k == ind:\n",
    "                temp.append(w)\n",
    "        d.append(temp)\n",
    "    return d"
   ]
  },
  {
   "cell_type": "code",
   "execution_count": 8,
   "metadata": {
    "scrolled": true
   },
   "outputs": [
    {
     "name": "stdout",
     "output_type": "stream",
     "text": [
      "100% clussnum = 33383"
     ]
    },
    {
     "data": {
      "text/plain": [
       "[['автор', 'втора', 'отвар', 'рвота', 'тавро', 'товар'],\n",
       " ['аборт', 'обрат', 'табор', 'торба'],\n",
       " ['арак', 'арка', 'кара', 'рака'],\n",
       " ['калан', 'канал', 'ланка', 'накал'],\n",
       " ['корт', 'крот', 'торк', 'трок'],\n",
       " ['рост', 'сорт', 'торс', 'трос'],\n",
       " ['секта', 'сетка', 'стека', 'тесак']]"
      ]
     },
     "execution_count": 8,
     "metadata": {},
     "output_type": "execute_result"
    }
   ],
   "source": [
    "anagrams('words-list-russian.txt')"
   ]
  },
  {
   "cell_type": "markdown",
   "metadata": {},
   "source": [
    "## 4 (Игра в наборщика)"
   ]
  },
  {
   "cell_type": "markdown",
   "metadata": {},
   "source": [
    "Аналогично предыдущему заданию храним в wordarray массив слова word из которого хотим найти подслова. А в count0 все остальные слова также в виде массивов. Слово является подсловом если количество i буквы в массиве небольше чем в заданном. Также если заданное слово уже есть в словаре, то оно не выводится по условиям игры."
   ]
  },
  {
   "cell_type": "code",
   "execution_count": 9,
   "metadata": {
    "collapsed": true
   },
   "outputs": [],
   "source": [
    "def typesetter(txtfile,word):\n",
    "    wordarray = [0]*34;\n",
    "    wordcount = 0;\n",
    "    df = pd.read_csv(txtfile, header = None)[0].tolist()\n",
    "    count0 = [[0]*34 for i in range(len(df))]\n",
    "    wordsetter = []*len(df)\n",
    "    wordoverlap = 0;\n",
    "    for i in range(len(df)):\n",
    "        for s in range(len(df[i])):\n",
    "            if df[i][s] != '-':\n",
    "                pos = ord(df[i][s]) - ord('а')\n",
    "                count0[i][pos] += 1\n",
    "    for s in range(len(word)):\n",
    "        if word[s] != '-':\n",
    "            pos = ord(word[s]) - ord('а')\n",
    "            wordarray[pos] += 1\n",
    "    for i in range(len(count0)):\n",
    "        wordoverlap = 0;\n",
    "        for s in range(len(count0[i])):\n",
    "            if count0[i][s] <= wordarray[s]:\n",
    "                wordoverlap += 1;\n",
    "                if wordoverlap == 34:\n",
    "                    wordsetter.append(df[i])\n",
    "        if df[i] == word:\n",
    "            wordsetter.remove(df[i])\n",
    "    sys.stdout.write('количество слов: %d'%(len(wordsetter)))\n",
    "    return  wordsetter "
   ]
  },
  {
   "cell_type": "code",
   "execution_count": 10,
   "metadata": {},
   "outputs": [
    {
     "name": "stdout",
     "output_type": "stream",
     "text": [
      "количество слов: 147"
     ]
    },
    {
     "data": {
      "text/plain": [
       "['автол',\n",
       " 'автор',\n",
       " 'акр',\n",
       " 'ар',\n",
       " 'арест',\n",
       " 'арк',\n",
       " 'аскер',\n",
       " 'ваер',\n",
       " 'валет',\n",
       " 'вар',\n",
       " 'век',\n",
       " 'веко',\n",
       " 'вектор',\n",
       " 'вера',\n",
       " 'верк',\n",
       " 'верстак',\n",
       " 'вес',\n",
       " 'весло',\n",
       " 'вест',\n",
       " 'ветка',\n",
       " 'ветла',\n",
       " 'влас',\n",
       " 'вокал',\n",
       " 'вол',\n",
       " 'вор',\n",
       " 'ворс',\n",
       " 'воск',\n",
       " 'втора',\n",
       " 'ер',\n",
       " 'кал',\n",
       " 'карел',\n",
       " 'карст',\n",
       " 'карт',\n",
       " 'картвел',\n",
       " 'кастор',\n",
       " 'кат',\n",
       " 'катер',\n",
       " 'квас',\n",
       " 'квестор',\n",
       " 'квота',\n",
       " 'кларет',\n",
       " 'клот',\n",
       " 'ков',\n",
       " 'кол',\n",
       " 'кола',\n",
       " 'колет',\n",
       " 'кора',\n",
       " 'корвет',\n",
       " 'корсет',\n",
       " 'корт',\n",
       " 'костра',\n",
       " 'кот',\n",
       " 'креол',\n",
       " 'кресло',\n",
       " 'крест',\n",
       " 'кроат',\n",
       " 'кров',\n",
       " 'крот',\n",
       " 'лавр',\n",
       " 'лар',\n",
       " 'латекс',\n",
       " 'левкас',\n",
       " 'лек',\n",
       " 'лектор',\n",
       " 'лерка',\n",
       " 'лес',\n",
       " 'леска',\n",
       " 'лестовка',\n",
       " 'лето',\n",
       " 'леток',\n",
       " 'лов',\n",
       " 'лоск',\n",
       " 'овал',\n",
       " 'окрас',\n",
       " 'орс',\n",
       " 'орт',\n",
       " 'оса',\n",
       " 'осек',\n",
       " 'оскал',\n",
       " 'ост',\n",
       " 'отвал',\n",
       " 'отвар',\n",
       " 'отвес',\n",
       " 'отсев',\n",
       " 'отсек',\n",
       " 'рвота',\n",
       " 'река',\n",
       " 'рекостав',\n",
       " 'ров',\n",
       " 'рол',\n",
       " 'роса',\n",
       " 'рост',\n",
       " 'рота',\n",
       " 'сверка',\n",
       " 'сверло',\n",
       " 'сев',\n",
       " 'севр',\n",
       " 'секатор',\n",
       " 'секта',\n",
       " 'село',\n",
       " 'сера',\n",
       " 'серв',\n",
       " 'сет',\n",
       " 'сетка',\n",
       " 'скало',\n",
       " 'скатол',\n",
       " 'сквер',\n",
       " 'склера',\n",
       " 'скол',\n",
       " 'скот',\n",
       " 'словак',\n",
       " 'сова',\n",
       " 'совет',\n",
       " 'сок',\n",
       " 'солевар',\n",
       " 'солка',\n",
       " 'сор',\n",
       " 'сорт',\n",
       " 'срок',\n",
       " 'старое',\n",
       " 'створка',\n",
       " 'стек',\n",
       " 'стека',\n",
       " 'стекло',\n",
       " 'стекловар',\n",
       " 'стела',\n",
       " 'сток',\n",
       " 'стокер',\n",
       " 'стрела',\n",
       " 'стрелок',\n",
       " 'тавр',\n",
       " 'тавро',\n",
       " 'тал',\n",
       " 'талес',\n",
       " 'тело',\n",
       " 'тесак',\n",
       " 'тесло',\n",
       " 'товар',\n",
       " 'тол',\n",
       " 'торк',\n",
       " 'торс',\n",
       " 'трак',\n",
       " 'трал',\n",
       " 'трек',\n",
       " 'треск',\n",
       " 'трок',\n",
       " 'трос']"
      ]
     },
     "execution_count": 10,
     "metadata": {},
     "output_type": "execute_result"
    }
   ],
   "source": [
    "typesetter('words-list-russian.txt','лекарство')"
   ]
  },
  {
   "cell_type": "markdown",
   "metadata": {},
   "source": [
    "## 5 (Отгадай слово, водящий) "
   ]
  },
  {
   "cell_type": "markdown",
   "metadata": {},
   "source": [
    "NumiratorWords() получает на вход словарь и выводит двумерный массив i - слова, j - количество буквы в слове"
   ]
  },
  {
   "cell_type": "code",
   "execution_count": 11,
   "metadata": {
    "collapsed": true
   },
   "outputs": [],
   "source": [
    "def NumiratorWords(dictionary):\n",
    "    df = pd.read_csv(dictionary,header = None)[0].tolist()\n",
    "    fltrscount = [[0]*34 for i in range(len(df))]\n",
    "    for i in range(len(df)):\n",
    "        for s in range(len(df[i])):\n",
    "            if df[i][s] != '-':\n",
    "                pos = ord(df[i][s]) - ord('а')\n",
    "                fltrscount[i][pos] += 1\n",
    "    return fltrscount"
   ]
  },
  {
   "cell_type": "markdown",
   "metadata": {},
   "source": [
    "RuleDictionary() выводит первым элементом массив из слов состоящих из различных букв и длиной равной 5, которые необходимы для игры, а вторым элементом массив из глобального словаря"
   ]
  },
  {
   "cell_type": "code",
   "execution_count": 12,
   "metadata": {
    "collapsed": true
   },
   "outputs": [],
   "source": [
    "def RuleDictionary(dictionary):\n",
    "    df = pd.read_csv(dictionary,header = None)[0].tolist()\n",
    "    pravilo = []*len(df)\n",
    "    fltrscount = NumiratorWords(dictionary)\n",
    "    for i in range(len(df)):\n",
    "        counter = 0\n",
    "        if len(df[i]) == 5:\n",
    "            for s in range(len(fltrscount[i])):\n",
    "                if (fltrscount[i][s] < 2) & (fltrscount[i][s] != 0):\n",
    "                    counter += 1;\n",
    "            if counter == 5:\n",
    "                pravilo.append(df[i])\n",
    "    return (pravilo,df)"
   ]
  },
  {
   "cell_type": "markdown",
   "metadata": {},
   "source": [
    "Компьютер берет любое слово из словаря для игры и загадывает пользователю. Пользователь вводит слово. Попытка засчитывается, если введенное слово из 5 букв. Также если слова нет в глобальном словаре, то пользователя просят ввести другое слово и попытка не засчитывется. Для удобства проверки выводится слово, загаданное пользователем"
   ]
  },
  {
   "cell_type": "code",
   "execution_count": 13,
   "metadata": {
    "collapsed": true
   },
   "outputs": [],
   "source": [
    "def guess(dictionary):\n",
    "    df = RuleDictionary(dictionary)[0]\n",
    "    dfglobal = RuleDictionary(dictionary)[1]\n",
    "    guessword = random.choice(df)\n",
    "    userword = ''\n",
    "    attempt = 0\n",
    "    print(guessword) \n",
    "    flag = False\n",
    "    while flag == False:\n",
    "        ccounter = 0\n",
    "        userword = input()\n",
    "        if len(userword) != 5:\n",
    "            while True:\n",
    "                sys.stdout.write('Слово из пяти букв:')\n",
    "                userword = input('\\n')\n",
    "                if len(userword) == 5:\n",
    "                    break\n",
    "        if (userword not in dfglobal) and (len(userword) == 5) :\n",
    "            while True:\n",
    "                sys.stdout.write('Не знаю такого слова:')\n",
    "                userword = input('\\n')\n",
    "                if userword in df:\n",
    "                    break\n",
    "        attempt += 1       \n",
    "        for i in range(len(guessword)):\n",
    "            for s in range(len(guessword)):\n",
    "                if userword[i] == guessword[s]:\n",
    "                    ccounter += 1\n",
    "        sys.stdout.write('%d\\n'%(ccounter))\n",
    "        if userword == guessword:\n",
    "            flag = True\n",
    "            sys.stdout.write('Слово угадано с попытки:%d'%attempt)"
   ]
  },
  {
   "cell_type": "code",
   "execution_count": 14,
   "metadata": {},
   "outputs": [
    {
     "name": "stdout",
     "output_type": "stream",
     "text": [
      "бурят\n",
      "река\n",
      "Слово из пяти букв:\n",
      "рвота\n",
      "2\n",
      "отель\n",
      "1\n",
      "атака\n",
      "1\n",
      "шпага\n",
      "0\n",
      "бурят\n",
      "5\n",
      "Слово угадано с попытки:5"
     ]
    }
   ],
   "source": [
    "guess('words-list-russian.txt')"
   ]
  },
  {
   "cell_type": "markdown",
   "metadata": {},
   "source": [
    "## 6 (Отгадай слово, угадывающий)"
   ]
  },
  {
   "cell_type": "markdown",
   "metadata": {},
   "source": [
    "Функция counter() ищет количество совпадающих букв в словах пользователя и компьютера"
   ]
  },
  {
   "cell_type": "code",
   "execution_count": 42,
   "metadata": {
    "collapsed": true
   },
   "outputs": [],
   "source": [
    "def counter(compword,guessword):\n",
    "    ccounter = 0\n",
    "    for i in range(len(guessword)):\n",
    "        for s in range(len(guessword)):\n",
    "            if compword[i] == guessword[s]: \n",
    "                ccounter += 1\n",
    "    return ccounter"
   ]
  },
  {
   "cell_type": "markdown",
   "metadata": {},
   "source": [
    "Функция fivemark() ищет слова анаграммы данного слова"
   ]
  },
  {
   "cell_type": "code",
   "execution_count": 43,
   "metadata": {
    "collapsed": true
   },
   "outputs": [],
   "source": [
    "def fivemark(word):\n",
    "    M=[]*len(RuleDictionary('words-list-russian.txt')[0])\n",
    "    M = classificator(RuleDictionary('words-list-russian.txt')[0])\n",
    "    word = RuleDictionary('words-list-russian.txt')[0][8]\n",
    "    for i in range(len(M)):\n",
    "        for j in range(len(M[i])):\n",
    "            if word == M[i][j]: \n",
    "                while True:\n",
    "                    indexic = random.randint(0, len(M[i]) - 1)\n",
    "                    newword = M[i][indexic]\n",
    "                    if newword != word:\n",
    "                        break\n",
    "    return newword"
   ]
  },
  {
   "cell_type": "markdown",
   "metadata": {},
   "source": [
    "Функция classificator() разибивает слова на классы, подобно заданию 3"
   ]
  },
  {
   "cell_type": "code",
   "execution_count": 48,
   "metadata": {
    "collapsed": true
   },
   "outputs": [],
   "source": [
    "def classificator(df):\n",
    "    ltrscount = [[0]*34 for i in range(len(df))]\n",
    "    ltrswords = [0]*len(df)\n",
    "    for i in range(len(df)):\n",
    "        for s in range(len(df[i])):\n",
    "            if df[i][s] != '-':\n",
    "                pos = ord(df[i][s])-ord('а')\n",
    "                ltrscount[i][pos] += 1\n",
    "        ltrswords[i] = ''.join(str(ltrscount[i]))\n",
    "    s = [-1] * len(ltrswords)\n",
    "    ind = 0\n",
    "    for c1, w1 in enumerate(ltrswords):\n",
    "       # if c1 % 100 == 0:\n",
    "       #     sys.stdout.write('\\r%d%% clussnum = %d'%(c1/340, ind))\n",
    "        if s[c1] != -1:\n",
    "            continue\n",
    "        else:\n",
    "            s[c1] = ind\n",
    "        \n",
    "        for c2, w2 in enumerate(ltrswords[c1:]):\n",
    "            if s[c2+c1] != -1:\n",
    "                continue\n",
    "            if w1 == w2:\n",
    "                s[c2+c1] = ind\n",
    "        ind += 1    \n",
    "    indexes = list(filter(lambda x: x[1] > 1, sorted(Counter(s).items(), key = lambda x:-x[1]))) \n",
    "    d = []\n",
    "    for ind, o in indexes:\n",
    "        temp = []\n",
    "        for k, w in zip(s, df):\n",
    "            if k == ind:\n",
    "                temp.append(w)\n",
    "        d.append(temp)\n",
    "    return d"
   ]
  },
  {
   "cell_type": "markdown",
   "metadata": {},
   "source": [
    "В computerguess() пользователь вводит слово guessword, если оно удовлетворяет правилам игры, то она начинается и компьютер начинает угадывать слово. Первое слово определяется случайно, далее слова определяются по функции правдоподобия. Компьютер пытается угадать слово используя словарь для игры. Если количество угаданных букв равно 5,  то он использует классификатор из задачи 3."
   ]
  },
  {
   "cell_type": "code",
   "execution_count": 49,
   "metadata": {
    "collapsed": true
   },
   "outputs": [],
   "source": [
    "def computerguess(dictionary):\n",
    "    df= RuleDictionary(dictionary)[0]\n",
    "    guessword = input('')\n",
    "    ccounter = 0\n",
    "    if (len(guessword) != 5) or (guessword not in df):\n",
    "        while True:\n",
    "            sys.stdout.write('Компьютер не знает слова либо оно не из 5 букв:')\n",
    "            guessword=input('\\n')\n",
    "            if len(guessword) == 5 and guessword in df:\n",
    "                break\n",
    "    compword=random.choice(list(enumerate(df)))\n",
    "    attempt = 1 \n",
    "    sys.stdout.write(compword[1]+'\\n%d'%(counter(compword[1],guessword)))\n",
    "    attempt+=1\n",
    "    compword=random.choice(list(enumerate(df)))\n",
    "    sys.stdout.write(\"\\n\"+compword[1]+'\\n%d'%(counter(compword[1],guessword)))\n",
    "    compword=df[189]\n",
    "    sys.stdout.write('\\n'+compword)\n",
    "    sys.stdout.write('\\n%d'%(counter(guessword,compword)))\n",
    "    \n",
    "    while True:\n",
    "        if compword==guessword:\n",
    "            print('\\nКомпьютер угадал слово с %d попытки'%attempt)\n",
    "            break\n",
    "        else:   \n",
    "            attempt+=1;\n",
    "        if counter(guessword,compword)==5:\n",
    "            matrix=[]*6;\n",
    "            matrix.append(compword)\n",
    "            while True:\n",
    "                while True:\n",
    "                    compword=fivemark(compword)\n",
    "                    if compword not in matrix:\n",
    "                        break\n",
    "                sys.stdout.write('\\n')\n",
    "                sys.stdout.write(compword+'\\n%d'%(counter(guessword,compword)))\n",
    "                attempt += 1\n",
    "                if  compword == guessword:\n",
    "                    break\n",
    "                else:\n",
    "                    matrix.append(compword)   "
   ]
  },
  {
   "cell_type": "code",
   "execution_count": 50,
   "metadata": {},
   "outputs": [
    {
     "name": "stdout",
     "output_type": "stream",
     "text": [
      "товар\n",
      "скрап\n",
      "2\n",
      "потир\n",
      "3\n",
      "втора\n",
      "5\n",
      "отвар\n",
      "5\n",
      "тавро\n",
      "5\n",
      "товар\n",
      "5\n",
      "Компьютер угадал слово с 6 попытки\n"
     ]
    }
   ],
   "source": [
    "computerguess('words-list-russian.txt')"
   ]
  },
  {
   "cell_type": "markdown",
   "metadata": {},
   "source": [
    "## 7"
   ]
  },
  {
   "cell_type": "code",
   "execution_count": 51,
   "metadata": {
    "collapsed": true
   },
   "outputs": [],
   "source": [
    "url = 'http://www.belstat.gov.by/ofitsialnaya-statistika/makroekonomika-i-okruzhayushchaya-sreda/natsionalnye-scheta/godovye-dannye_11/proizvodstvo-valovogo-vnutrennego-produkta/'\n",
    "temp = urllib.request.urlopen(url)\n",
    "text = temp.read().decode('utf-8')"
   ]
  },
  {
   "cell_type": "markdown",
   "metadata": {},
   "source": [
    "Префильтр get_p() удаляет лишние теги. Затем ищется первая таблица. В цикле по тегам <tr> и <td> находятся столбцы и строки, а также заголовки, которые добавляются в массив M "
   ]
  },
  {
   "cell_type": "code",
   "execution_count": 52,
   "metadata": {
    "collapsed": true
   },
   "outputs": [],
   "source": [
    "def get_p(x):\n",
    "    temp = x.find('p')\n",
    "    if len(temp)==0:\n",
    "        return ''\n",
    "    res = ' '.join([str(i).replace('u\\xa0',' ') for i in temp.contents])\n",
    "    res = res.replace('</sup>',' ').replace('<sup>',' ').replace('<br/>','\\n').replace('<br>','\\n')\n",
    "    return res\n",
    "\n",
    "    \n",
    "soup = BeautifulSoup(text)\n",
    "\n",
    "table = soup.find(\"table\")\n",
    "M = []\n",
    "for row in table.findAll(\"tr\"):\n",
    "    temp = row.findAll(\"td\")\n",
    "    cells = temp\n",
    "    if len(cells) == 0:\n",
    "        cells = row.findAll('th')\n",
    "    M.append([get_p(i) for i in cells])"
   ]
  },
  {
   "cell_type": "markdown",
   "metadata": {},
   "source": [
    "Функция filterx() фильтрует элемент массив, удаляя лишние пробелы между разрядами, и заменяет запятые на точки. "
   ]
  },
  {
   "cell_type": "code",
   "execution_count": 53,
   "metadata": {},
   "outputs": [
    {
     "data": {
      "text/html": [
       "<div>\n",
       "<style>\n",
       "    .dataframe thead tr:only-child th {\n",
       "        text-align: right;\n",
       "    }\n",
       "\n",
       "    .dataframe thead th {\n",
       "        text-align: left;\n",
       "    }\n",
       "\n",
       "    .dataframe tbody tr th {\n",
       "        vertical-align: top;\n",
       "    }\n",
       "</style>\n",
       "<table border=\"1\" class=\"dataframe\">\n",
       "  <thead>\n",
       "    <tr style=\"text-align: right;\">\n",
       "      <th></th>\n",
       "      <th>0</th>\n",
       "      <th>1</th>\n",
       "      <th>2</th>\n",
       "      <th>3</th>\n",
       "      <th>4</th>\n",
       "      <th>5</th>\n",
       "      <th>6</th>\n",
       "      <th>7</th>\n",
       "      <th>8</th>\n",
       "    </tr>\n",
       "  </thead>\n",
       "  <tbody>\n",
       "    <tr>\n",
       "      <th>0</th>\n",
       "      <td></td>\n",
       "      <td>2009</td>\n",
       "      <td>2010</td>\n",
       "      <td>2011</td>\n",
       "      <td>2012</td>\n",
       "      <td>2013</td>\n",
       "      <td>2014</td>\n",
       "      <td>2015</td>\n",
       "      <td>2016</td>\n",
       "    </tr>\n",
       "    <tr>\n",
       "      <th>1</th>\n",
       "      <td>Валовой внутренний продукт</td>\n",
       "      <td></td>\n",
       "      <td></td>\n",
       "      <td></td>\n",
       "      <td></td>\n",
       "      <td></td>\n",
       "      <td></td>\n",
       "      <td></td>\n",
       "      <td></td>\n",
       "    </tr>\n",
       "    <tr>\n",
       "      <th>2</th>\n",
       "      <td>в текущих ценах, млрд. руб. (2016 год – млн. р...</td>\n",
       "      <td>142091</td>\n",
       "      <td>170466</td>\n",
       "      <td>307245</td>\n",
       "      <td>547617</td>\n",
       "      <td>670688</td>\n",
       "      <td>805793</td>\n",
       "      <td>899098</td>\n",
       "      <td>94949</td>\n",
       "    </tr>\n",
       "    <tr>\n",
       "      <th>3</th>\n",
       "      <td>в сопоставимых ценах, в процентах к предыдущем...</td>\n",
       "      <td>x</td>\n",
       "      <td>107.7</td>\n",
       "      <td>105.5</td>\n",
       "      <td>101.7</td>\n",
       "      <td>101.0</td>\n",
       "      <td>101.7</td>\n",
       "      <td>96.2</td>\n",
       "      <td>97.5</td>\n",
       "    </tr>\n",
       "    <tr>\n",
       "      <th>4</th>\n",
       "      <td>Валовой внутренний продукт на душу населения, ...</td>\n",
       "      <td>14946</td>\n",
       "      <td>17962</td>\n",
       "      <td>32433</td>\n",
       "      <td>57860</td>\n",
       "      <td>70852</td>\n",
       "      <td>85048</td>\n",
       "      <td>94745</td>\n",
       "      <td>9993</td>\n",
       "    </tr>\n",
       "  </tbody>\n",
       "</table>\n",
       "</div>"
      ],
      "text/plain": [
       "                                                   0       1       2       3  \\\n",
       "0                                                       2009    2010    2011   \n",
       "1                        Валовой внутренний продукт                            \n",
       "2  в текущих ценах, млрд. руб. (2016 год – млн. р...  142091  170466  307245   \n",
       "3  в сопоставимых ценах, в процентах к предыдущем...       x   107.7   105.5   \n",
       "4  Валовой внутренний продукт на душу населения, ...   14946   17962   32433   \n",
       "\n",
       "        4       5       6       7      8  \n",
       "0    2012    2013    2014    2015   2016  \n",
       "1                                         \n",
       "2  547617  670688  805793  899098  94949  \n",
       "3   101.7   101.0   101.7    96.2   97.5  \n",
       "4   57860   70852   85048   94745   9993  "
      ]
     },
     "execution_count": 53,
     "metadata": {},
     "output_type": "execute_result"
    }
   ],
   "source": [
    "def filterx(x):\n",
    "    x = x.replace('\\n','').replace('\\t','').replace('\\xa0',' ').replace('  ',' ').replace('  ',' ')\n",
    "    x = x.replace(u'\\xa0', u' ')\n",
    "    try:\n",
    "        a = float(x.replace(' ','').replace(',','.'))\n",
    "        x = x.replace(',','.').replace(' ','').replace(' ','')\n",
    "    except:\n",
    "        x = x.replace('  ',' ').replace('  ',' ')[1:]\n",
    "    if x == \" \":\n",
    "        return ''\n",
    "    return x\n",
    "df = [[filterx(i) for i in k] for k in M]\n",
    "\n",
    "pd.DataFrame(df)"
   ]
  }
 ],
 "metadata": {
  "kernelspec": {
   "display_name": "Python 3",
   "language": "python",
   "name": "python3"
  },
  "language_info": {
   "codemirror_mode": {
    "name": "ipython",
    "version": 3
   },
   "file_extension": ".py",
   "mimetype": "text/x-python",
   "name": "python",
   "nbconvert_exporter": "python",
   "pygments_lexer": "ipython3",
   "version": "3.6.1"
  }
 },
 "nbformat": 4,
 "nbformat_minor": 1
}
