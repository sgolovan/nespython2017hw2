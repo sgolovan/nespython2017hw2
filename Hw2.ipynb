{
 "cells": [
  {
   "cell_type": "code",
   "execution_count": 1,
   "metadata": {},
   "outputs": [],
   "source": [
    "def F(n): \n",
    "    if n == 0: return 0 \n",
    "    elif n == 1: return 1 \n",
    "    else: return F(n-1)+F(n-2)"
   ]
  },
  {
   "cell_type": "code",
   "execution_count": 70,
   "metadata": {},
   "outputs": [],
   "source": [
    "def sumThreeFive(n):\n",
    "    s = 0 \n",
    "    for i in range(1,int(n)): \n",
    "        if (i)%3==0 or (i)%5==0: \n",
    "            s=s+i \n",
    "    return s"
   ]
  },
  {
   "cell_type": "code",
   "execution_count": 72,
   "metadata": {},
   "outputs": [
    {
     "data": {
      "text/plain": [
       "23331668"
      ]
     },
     "execution_count": 72,
     "metadata": {},
     "output_type": "execute_result"
    }
   ],
   "source": [
    "sumThreeFive(10000)"
   ]
  },
  {
   "cell_type": "code",
   "execution_count": 20,
   "metadata": {
    "scrolled": true
   },
   "outputs": [],
   "source": [
    "def anagrams():\n",
    "    import io\n",
    "    file=io.open(\"words-list-russian.txt\",\"r\", encoding=\"utf-8\")\n",
    "    word_list = file.read().splitlines()\n",
    "    m={}\n",
    "    for word in word_list:\n",
    "        s = ''.join(sorted(word))\n",
    "        m.setdefault(s, [])\n",
    "        m[s].append(word)\n",
    "    for word in word_list:\n",
    "        s = ''.join(sorted(word))\n",
    "        if len(m[s])>3:\n",
    "            print(str(m[s]))     "
   ]
  },
  {
   "cell_type": "code",
   "execution_count": 22,
   "metadata": {},
   "outputs": [
    {
     "name": "stdout",
     "output_type": "stream",
     "text": [
      "['аборт', 'обрат', 'табор', 'торба']\n",
      "['автор', 'втора', 'отвар', 'рвота', 'тавро', 'товар']\n",
      "['арак', 'арка', 'кара', 'рака']\n",
      "['арак', 'арка', 'кара', 'рака']\n",
      "['автор', 'втора', 'отвар', 'рвота', 'тавро', 'товар']\n",
      "['калан', 'канал', 'ланка', 'накал']\n",
      "['калан', 'канал', 'ланка', 'накал']\n",
      "['арак', 'арка', 'кара', 'рака']\n",
      "['корт', 'крот', 'торк', 'трок']\n",
      "['корт', 'крот', 'торк', 'трок']\n",
      "['калан', 'канал', 'ланка', 'накал']\n",
      "['калан', 'канал', 'ланка', 'накал']\n",
      "['аборт', 'обрат', 'табор', 'торба']\n",
      "['автор', 'втора', 'отвар', 'рвота', 'тавро', 'товар']\n",
      "['арак', 'арка', 'кара', 'рака']\n",
      "['автор', 'втора', 'отвар', 'рвота', 'тавро', 'товар']\n",
      "['рост', 'сорт', 'торс', 'трос']\n",
      "['секта', 'сетка', 'стека', 'тесак']\n",
      "['секта', 'сетка', 'стека', 'тесак']\n",
      "['рост', 'сорт', 'торс', 'трос']\n",
      "['секта', 'сетка', 'стека', 'тесак']\n",
      "['аборт', 'обрат', 'табор', 'торба']\n",
      "['автор', 'втора', 'отвар', 'рвота', 'тавро', 'товар']\n",
      "['секта', 'сетка', 'стека', 'тесак']\n",
      "['автор', 'втора', 'отвар', 'рвота', 'тавро', 'товар']\n",
      "['аборт', 'обрат', 'табор', 'торба']\n",
      "['корт', 'крот', 'торк', 'трок']\n",
      "['рост', 'сорт', 'торс', 'трос']\n",
      "['корт', 'крот', 'торк', 'трок']\n",
      "['рост', 'сорт', 'торс', 'трос']\n"
     ]
    }
   ],
   "source": [
    "anagrams()"
   ]
  },
  {
   "cell_type": "code",
   "execution_count": 24,
   "metadata": {},
   "outputs": [],
   "source": [
    "def typesetter(sword):\n",
    "    import io\n",
    "    file=io.open(\"words-list-russian.txt\",\"r\", encoding=\"utf-8\")\n",
    "    word_list = file.read().splitlines()\n",
    "    list=[]\n",
    "    for word in word_list:\n",
    "        is_feasible=True\n",
    "        dword=sword\n",
    "        for c in word:\n",
    "           # print(c,dword,c in dword)\n",
    "            if (c in dword):\n",
    "                dword=dword.replace(c, \"\")\n",
    "            else:\n",
    "                is_feasible=False\n",
    "                break\n",
    "        if is_feasible:\n",
    "            list.append(word)\n",
    "        \n",
    "    print(len(list))    \n",
    "    for w in list:\n",
    "        print(w)\n"
   ]
  },
  {
   "cell_type": "code",
   "execution_count": 25,
   "metadata": {},
   "outputs": [
    {
     "name": "stdout",
     "output_type": "stream",
     "text": [
      "147\n",
      "автол\n",
      "автор\n",
      "акр\n",
      "ар\n",
      "арест\n",
      "арк\n",
      "аскер\n",
      "ваер\n",
      "валет\n",
      "вар\n",
      "век\n",
      "веко\n",
      "вектор\n",
      "вера\n",
      "верк\n",
      "верстак\n",
      "вес\n",
      "весло\n",
      "вест\n",
      "ветка\n",
      "ветла\n",
      "влас\n",
      "вокал\n",
      "вол\n",
      "вор\n",
      "ворс\n",
      "воск\n",
      "втора\n",
      "ер\n",
      "кал\n",
      "карел\n",
      "карст\n",
      "карт\n",
      "картвел\n",
      "кастор\n",
      "кат\n",
      "катер\n",
      "квас\n",
      "квестор\n",
      "квота\n",
      "кларет\n",
      "клот\n",
      "ков\n",
      "кол\n",
      "кола\n",
      "колет\n",
      "кора\n",
      "корвет\n",
      "корсет\n",
      "корт\n",
      "костра\n",
      "кот\n",
      "креол\n",
      "кресло\n",
      "крест\n",
      "кроат\n",
      "кров\n",
      "крот\n",
      "лавр\n",
      "лар\n",
      "латекс\n",
      "левкас\n",
      "лек\n",
      "лектор\n",
      "лерка\n",
      "лес\n",
      "леска\n",
      "лестовка\n",
      "лето\n",
      "леток\n",
      "лов\n",
      "лоск\n",
      "овал\n",
      "окрас\n",
      "орс\n",
      "орт\n",
      "оса\n",
      "осек\n",
      "оскал\n",
      "ост\n",
      "отвал\n",
      "отвар\n",
      "отвес\n",
      "отсев\n",
      "отсек\n",
      "рвота\n",
      "река\n",
      "рекостав\n",
      "ров\n",
      "рол\n",
      "роса\n",
      "рост\n",
      "рота\n",
      "сверка\n",
      "сверло\n",
      "сев\n",
      "севр\n",
      "секатор\n",
      "секта\n",
      "село\n",
      "сера\n",
      "серв\n",
      "сет\n",
      "сетка\n",
      "скало\n",
      "скатол\n",
      "сквер\n",
      "склера\n",
      "скол\n",
      "скот\n",
      "словак\n",
      "сова\n",
      "совет\n",
      "сок\n",
      "солевар\n",
      "солка\n",
      "сор\n",
      "сорт\n",
      "срок\n",
      "старое\n",
      "створка\n",
      "стек\n",
      "стека\n",
      "стекло\n",
      "стекловар\n",
      "стела\n",
      "сток\n",
      "стокер\n",
      "стрела\n",
      "стрелок\n",
      "тавр\n",
      "тавро\n",
      "тал\n",
      "талес\n",
      "тело\n",
      "тесак\n",
      "тесло\n",
      "товар\n",
      "тол\n",
      "торк\n",
      "торс\n",
      "трак\n",
      "трал\n",
      "трек\n",
      "треск\n",
      "трок\n",
      "трос\n"
     ]
    }
   ],
   "source": [
    "typesetter('лекарство')"
   ]
  },
  {
   "cell_type": "code",
   "execution_count": 40,
   "metadata": {},
   "outputs": [],
   "source": [
    "def guess():\n",
    "    import io\n",
    "    import random\n",
    "    file=io.open(\"words-list-russian.txt\",\"r\", encoding=\"utf-8\")\n",
    "    word_list = file.read().splitlines()\n",
    "    list=[word_list[i] for i in range(0,len(word_list)-1) if (len(word_list[i])==5 and len(set(word_list[i]))==5)]\n",
    "    myword = random.choice(list)\n",
    "    play=True\n",
    "    attempt=0\n",
    "    while play:\n",
    "        attempt=attempt+1\n",
    "        gword = input(\"Введите слово: \")\n",
    "        if gword=='!':\n",
    "            print('Стоп-игра')\n",
    "            play=False\n",
    "        elif gword==myword:\n",
    "            print('Правильно!')\n",
    "            print('Угадано с ', str(attempt),' Попытки')\n",
    "            play=False\n",
    "        else:\n",
    "            s=0\n",
    "            for c in myword:\n",
    "                if (c in gword):\n",
    "                    s=s+1        \n",
    "            print('Угадано ',str(s),' букв')        "
   ]
  },
  {
   "cell_type": "code",
   "execution_count": 41,
   "metadata": {},
   "outputs": [
    {
     "name": "stdout",
     "output_type": "stream",
     "text": [
      "Введите слово: кефир\n",
      "Угадано  1  букв\n",
      "Введите слово: кафир\n",
      "Угадано  1  букв\n",
      "Введите слово: мерка\n",
      "Угадано  1  букв\n",
      "Введите слово: белка\n",
      "Угадано  1  букв\n",
      "Введите слово: бирка\n",
      "Угадано  2  букв\n",
      "Введите слово: булка\n",
      "Угадано  1  букв\n",
      "Введите слово: бурка\n",
      "Угадано  2  букв\n",
      "Введите слово: бизон\n",
      "Угадано  2  букв\n",
      "Введите слово: телка\n",
      "Угадано  0  букв\n",
      "Введите слово: броня\n",
      "Угадано  3  букв\n",
      "Введите слово: ферма\n",
      "Угадано  1  букв\n",
      "Введите слово: колье\n",
      "Угадано  2  букв\n",
      "Введите слово: бронь\n",
      "Угадано  4  букв\n",
      "Введите слово: брошь\n",
      "Угадано  4  букв\n",
      "Введите слово: бровь\n",
      "Правильно!\n",
      "Угадано с  15  Попытки\n"
     ]
    }
   ],
   "source": [
    "guess()"
   ]
  },
  {
   "cell_type": "code",
   "execution_count": null,
   "metadata": {},
   "outputs": [],
   "source": [
    "def computer_guess():\n",
    "    import io\n",
    "    import random\n",
    "    file=io.open(\"words-list-russian.txt\",\"r\", encoding=\"utf-8\")\n",
    "    word_list = file.read().splitlines()\n",
    "    mylist=[word_list[i] for i in range(0,len(word_list)-1) if (len(word_list[i])==5 and len(set(word_list[i]))==5)]\n",
    "    play=True\n",
    "    attempt=0\n",
    "    print(\"Начинаю угадывать!\")\n",
    "    while True:\n",
    "        attempt=attempt+1\n",
    "        secure_random = random.SystemRandom()\n",
    "        myword=secure_random.choice(mylist)\n",
    "        print(myword)\n",
    "        s=input(\"Сколько букв совпало? \")\n",
    "        if s=='!':\n",
    "            print('Ура! Угадал с ',str(attempt),' попыток!')\n",
    "            break\n",
    "        mylist.remove(myword)    \n",
    "        act_list=[]\n",
    "        for word in mylist:\n",
    "            if eq_char_num(myword, word)==int(s):\n",
    "                act_list.append(word)\n",
    "        if len(act_list)==0:\n",
    "            print(\"Я не знаю такого слова :( \")\n",
    "            break\n",
    "        mylist=act_list\n",
    "            \n",
    "def eq_char_num(str1, str2):\n",
    "    out = 0\n",
    "    for c in str1:\n",
    "        if c in str2:\n",
    "            out = out + 1\n",
    "    return out        "
   ]
  },
  {
   "cell_type": "code",
   "execution_count": 73,
   "metadata": {},
   "outputs": [
    {
     "name": "stdout",
     "output_type": "stream",
     "text": [
      "Начинаю угадывать!\n",
      "риска\n",
      "Сколько букв совпало? 2\n",
      "бювар\n",
      "Сколько букв совпало? 2\n",
      "ковёр\n",
      "Сколько букв совпало? 2\n",
      "шпора\n",
      "Сколько букв совпало? 3\n",
      "народ\n",
      "Сколько букв совпало? 3\n",
      "могар\n",
      "Сколько букв совпало? 4\n",
      "мажор\n",
      "Сколько букв совпало? 3\n",
      "гроза\n",
      "Сколько букв совпало? !\n",
      "Ура! Угадал с  8  попыток!\n"
     ]
    }
   ],
   "source": [
    "computer_guess()"
   ]
  },
  {
   "cell_type": "code",
   "execution_count": 7,
   "metadata": {
    "collapsed": true
   },
   "outputs": [],
   "source": [
    "memo = {0:1, 1:1}\n",
    "def fibm(n):\n",
    "    if not n in memo:\n",
    "        memo[n] = fibm(n-1) + fibm(n-2)\n",
    "    return memo[n]"
   ]
  },
  {
   "cell_type": "code",
   "execution_count": 16,
   "metadata": {},
   "outputs": [
    {
     "data": {
      "text/plain": [
       "280571172992510140037611932413038677189525"
      ]
     },
     "execution_count": 16,
     "metadata": {},
     "output_type": "execute_result"
    }
   ],
   "source": [
    "fibm(200)"
   ]
  }
 ],
 "metadata": {
  "kernelspec": {
   "display_name": "Python 3",
   "language": "python",
   "name": "python3"
  },
  "language_info": {
   "codemirror_mode": {
    "name": "ipython",
    "version": 3
   },
   "file_extension": ".py",
   "mimetype": "text/x-python",
   "name": "python",
   "nbconvert_exporter": "python",
   "pygments_lexer": "ipython3",
   "version": "3.6.3"
  }
 },
 "nbformat": 4,
 "nbformat_minor": 2
}
