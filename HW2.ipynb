{
 "cells": [
  {
   "cell_type": "code",
   "execution_count": 285,
   "metadata": {},
   "outputs": [],
   "source": [
    "import sys\n",
    "import random\n",
    "import numpy as np\n",
    "import pandas as pd\n",
    "from collections import defaultdict"
   ]
  },
  {
   "cell_type": "code",
   "execution_count": 140,
   "metadata": {
    "collapsed": true
   },
   "outputs": [],
   "source": [
    "#1Task\n",
    "\"\"\"\n",
    "Будем сравнивать с нулем остатки от деления.\n",
    "\"\"\"\n",
    "\n",
    "def sum(n):\n",
    "    result = 0\n",
    "    for i in range(n):\n",
    "        if (i % 3 == 0 or i % 5 == 0):\n",
    "            result = result + i\n",
    "    return result"
   ]
  },
  {
   "cell_type": "code",
   "execution_count": 141,
   "metadata": {},
   "outputs": [
    {
     "data": {
      "text/plain": [
       "2318"
      ]
     },
     "execution_count": 141,
     "metadata": {},
     "output_type": "execute_result"
    }
   ],
   "source": [
    "sum(100)"
   ]
  },
  {
   "cell_type": "code",
   "execution_count": 142,
   "metadata": {},
   "outputs": [
    {
     "data": {
      "text/plain": [
       "23331668"
      ]
     },
     "execution_count": 142,
     "metadata": {},
     "output_type": "execute_result"
    }
   ],
   "source": [
    "sum(10000)"
   ]
  },
  {
   "cell_type": "code",
   "execution_count": 143,
   "metadata": {
    "collapsed": true
   },
   "outputs": [],
   "source": [
    "#2Task\n",
    "\"\"\"\n",
    "Будем использовать лямбда выражение: функциональные языки программирования, для вычисления n-го члена последовательности Фибоначчи\n",
    "\"\"\"\n",
    "fib = lambda n: fib(n - 1) + fib(n - 2) if n > 1 else 1"
   ]
  },
  {
   "cell_type": "code",
   "execution_count": 144,
   "metadata": {},
   "outputs": [
    {
     "data": {
      "text/plain": [
       "89"
      ]
     },
     "execution_count": 144,
     "metadata": {},
     "output_type": "execute_result"
    }
   ],
   "source": [
    "fib (10)"
   ]
  },
  {
   "cell_type": "code",
   "execution_count": 145,
   "metadata": {
    "collapsed": true
   },
   "outputs": [],
   "source": [
    "\"\"\"\n",
    "Когда мы имеем дело с большими числами, эффективно будет использовать дополнительную модернизацию, которая сократит\n",
    "количество вызовов рекурсии\n",
    "\"\"\"\n",
    "max_size = 1000000\n",
    "M = [0 for i in range(max_size)]\n",
    "M[1] = 1\n",
    "\n",
    "\n",
    "def fib(n):\n",
    "    if n > 1:\n",
    "        if (M[n] != 0):\n",
    "            return M[n]\n",
    "        else:\n",
    "            M[n] = fib(n - 1) + fib(n - 2)\n",
    "            return M[n]\n",
    "    else:\n",
    "        return 1"
   ]
  },
  {
   "cell_type": "code",
   "execution_count": 146,
   "metadata": {},
   "outputs": [
    {
     "data": {
      "text/plain": [
       "453973694165307953197296969697410619233826"
      ]
     },
     "execution_count": 146,
     "metadata": {},
     "output_type": "execute_result"
    }
   ],
   "source": [
    "fib(200)"
   ]
  },
  {
   "cell_type": "code",
   "execution_count": 147,
   "metadata": {},
   "outputs": [],
   "source": [
    "#3Task\n",
    "\"\"\"\n",
    "Сначала прочитаем все слова, которые есть в текстовом файле. Парсить будем по знаку запятой.\n",
    "\"\"\"\n",
    "text_file = open(\"words-list-russian.txt\", \"r\")\n",
    "lines = text_file.read().split('\\n')\n",
    "#print(lines)\n",
    "text_file.close()"
   ]
  },
  {
   "cell_type": "code",
   "execution_count": 148,
   "metadata": {},
   "outputs": [],
   "source": [
    "\"\"\"\n",
    "Зададим функцию get_anagrams(). В этой функции мы сортируем буквы с словах. Ключ - это отсортированные буквы в слове.\n",
    "По этому ключу будем добавлять новые слова(которые имеют аналогичную сортировку). Зададим функцию print_anagrams()\n",
    "- она будет уже по ключу выводить все необходимые d.values()\n",
    "\"\"\"\n",
    "import pdb\n",
    "\n",
    "def get_anagrams(lines):\n",
    "    d = defaultdict(list)\n",
    "    for word in lines:\n",
    "        key = ''.join(sorted(word))\n",
    "        #pdb.set_trace()\n",
    "        d[key].append(word)\n",
    "    return d\n",
    "\n",
    "def print_anagrams(lines):\n",
    "    d = get_anagrams(lines)\n",
    "    for key in d.keys():\n",
    "        anagrams = d[key]\n",
    "        if len(anagrams) > 3:\n",
    "            print(key, anagrams)"
   ]
  },
  {
   "cell_type": "code",
   "execution_count": 149,
   "metadata": {},
   "outputs": [
    {
     "name": "stdout",
     "output_type": "stream",
     "text": [
      "аборт ['аборт', 'обрат', 'табор', 'торба']\n",
      "аворт ['автор', 'втора', 'отвар', 'рвота', 'тавро', 'товар']\n",
      "аакр ['арак', 'арка', 'кара', 'рака']\n",
      "ааклн ['калан', 'канал', 'ланка', 'накал']\n",
      "корт ['корт', 'крот', 'торк', 'трок']\n",
      "орст ['рост', 'сорт', 'торс', 'трос']\n",
      "аекст ['секта', 'сетка', 'стека', 'тесак']\n"
     ]
    }
   ],
   "source": [
    "print_anagrams(lines)"
   ]
  },
  {
   "cell_type": "code",
   "execution_count": 150,
   "metadata": {},
   "outputs": [],
   "source": [
    "#4Task\n",
    "\"\"\"\n",
    "Для начала считаем наш текстовый файл\n",
    "\"\"\"\n",
    "\n",
    "text_file = open(\"words-list-russian.txt\", \"r\")\n",
    "lines = text_file.read().split('\\n')\n",
    "text_file.close()\n",
    "\n",
    "input_string = 'лекарство'"
   ]
  },
  {
   "cell_type": "code",
   "execution_count": 234,
   "metadata": {},
   "outputs": [],
   "source": [
    "\"\"\"\n",
    "Для поиска входящих слов сначала отсуртируем буквы в исходном слове 'лекарство'. Так как слово отсортировано, нам\n",
    "просто необходимо пройтись по классам анаграмм. Для полного обхода слова - нам будет необходимо удалять буквы из слова,\n",
    "тем самым выбирая все классы анаграмм.\n",
    "\n",
    "shift(сдвиг) и lett(позиция удалямой буквы). Чем больше сдвиг - тем больше букв мы удаляем. При этом слово разбивается\n",
    "на три части - по количеству гласных. Обобщить это можно просто задав словарь гласных и добавив цикл на разбиение.\n",
    "\n",
    "Оставшиеся три цикла по сути перебирают уже исходное слово и его вариации, дополнительно перебирая все слово - что дает\n",
    "полное покрытие. Затем проверятеся совпадение полученного слова в отсортированном порядке и списком анаграмм.\n",
    "\"\"\"\n",
    "def string_anagrams(lines, input_string):\n",
    "    map_string = list()\n",
    "    d = get_anagrams(lines)\n",
    "    input_sort_str = ''.join(sorted(input_string))\n",
    "    for shift in range(1, len(input_sort_str)):\n",
    "        for lett in range(0, len(input_sort_str)):\n",
    "            if lett == 0:\n",
    "                tmp_s = input_sort_str\n",
    "            else:\n",
    "                tmp_s = (input_sort_str[:lett] + \n",
    "                         input_sort_str[lett + shift - 1:])\n",
    "            for a in range(0, len(tmp_s) - 1):\n",
    "                for i in range(1, len(tmp_s) - 1):\n",
    "                    for j in range(len(tmp_s) - 2):\n",
    "                        if i + j + a  < 9:\n",
    "                            tmp_str = (tmp_s[a: j + a + 1] +\n",
    "                                       tmp_s[j + i + a : len(tmp_s) + 1])\n",
    "                        for keys in d.keys():\n",
    "                            if (tmp_str.find(keys) != -1):\n",
    "                                if (d[keys] != '1'):\n",
    "                                    map_string.append(d[keys])\n",
    "                                    d[keys] = '1'\n",
    "    return map_string"
   ]
  },
  {
   "cell_type": "code",
   "execution_count": 235,
   "metadata": {},
   "outputs": [],
   "source": [
    "result = string_anagrams(lines, input_string)"
   ]
  },
  {
   "cell_type": "code",
   "execution_count": 236,
   "metadata": {
    "scrolled": true
   },
   "outputs": [
    {
     "name": "stdout",
     "output_type": "stream",
     "text": [
      "[['век'], ['кол'], ['креол'], ['кресло'], ['лек'], ['орс', 'сор'], ['рол'], ['рост', 'сорт', 'торс', 'трос'], ['стекловар'], ['стрелок'], ['вокал'], ['сверло'], ['солевар'], ['веко'], ['квестор'], ['корсет', 'стокер'], ['рекостав'], ['срок'], ['лестовка'], ['лоск', 'скол'], ['ост'], ['стекло'], ['лектор'], ['орт'], ['кал'], ['кола'], ['вол', 'лов'], ['овал'], ['верк'], ['верстак'], ['крест', 'треск'], ['сверка'], ['сквер'], ['левкас'], ['клот'], ['колет', 'леток'], ['тол'], ['вор', 'ров'], ['ворс'], ['ваер', 'вера'], ['ер'], ['севр', 'серв'], ['стек'], ['роса'], ['вар'], ['вес', 'сев'], ['вест'], ['сет'], ['ветка'], ['ар'], ['секатор'], ['карел', 'лерка'], ['склера'], ['старое'], ['аскер'], ['река'], ['латекс'], ['леска'], ['арест'], ['сера'], ['секта', 'сетка', 'стека', 'тесак'], ['ков'], ['кров'], ['створка'], ['словак'], ['квас'], ['весло'], ['село'], ['тесло'], ['лес'], ['лето', 'тело'], ['валет', 'ветла'], ['осек'], ['отсек'], ['скот', 'сток'], ['сок'], ['вектор', 'корвет'], ['корт', 'крот', 'торк', 'трок'], ['кастор', 'костра'], ['кора'], ['окрас'], ['кот'], ['картвел'], ['лавр'], ['лар'], ['оскал', 'скало', 'солка'], ['скатол'], ['отвес', 'отсев', 'совет'], ['сова'], ['оса'], ['трек'], ['автор', 'втора', 'отвар', 'рвота', 'тавро', 'товар'], ['рота'], ['тавр'], ['акр', 'арк'], ['карст'], ['кат'], ['влас'], ['автол', 'отвал'], ['тал']]\n"
     ]
    }
   ],
   "source": [
    "print(result)"
   ]
  },
  {
   "cell_type": "code",
   "execution_count": 172,
   "metadata": {
    "collapsed": true
   },
   "outputs": [],
   "source": [
    "#5Task\n",
    "\"\"\"\n",
    "Для начала считаем наш текстовый файл\n",
    "\"\"\"\n",
    "\n",
    "text_file = open(\"words-list-russian.txt\", \"r\")\n",
    "lines = text_file.read().split('\\n')\n",
    "text_file.close()"
   ]
  },
  {
   "cell_type": "code",
   "execution_count": 282,
   "metadata": {
    "collapsed": true
   },
   "outputs": [],
   "source": [
    "\"\"\"\n",
    "В данной ситуации мы просто проходим по нашему набору слов и находим состоящие из 5 букв и не имеющие повторений.\n",
    "\"\"\"\n",
    "\n",
    "def set_of_words(number_of_letters, lines):\n",
    "    all_words = list()\n",
    "    d = get_anagrams(lines)\n",
    "    tmp_dict = defaultdict(list)\n",
    "    for keys in d.keys():\n",
    "        tmp = 0\n",
    "        if len(keys) == 5:\n",
    "            tmp_string = keys\n",
    "            for i in range(0, len(keys) - 1):\n",
    "                tmp_string = tmp_string.replace(keys[i],'')\n",
    "                if len(tmp_string) < len(keys) - 1:\n",
    "                    tmp = -1\n",
    "                    break\n",
    "                tmp_string = keys\n",
    "            if tmp != -1:\n",
    "                all_words.append(d[keys])\n",
    "    return all_words      "
   ]
  },
  {
   "cell_type": "code",
   "execution_count": 333,
   "metadata": {},
   "outputs": [],
   "source": [
    "\"\"\"\n",
    "Теперь с помощью функции random() выберем подходящее слово. А затем просто сверяя введенные слова и загаданные выдадим\n",
    "необходимые ответы.\n",
    "\"\"\"\n",
    "\n",
    "def game_give(lines):\n",
    "    all_words = set_of_words(5, lines)\n",
    "    index = np.random.randint(0, len(all_words))\n",
    "    word_for_game = all_words[index][0]\n",
    "    tmp = word_for_game\n",
    "    print(tmp)\n",
    "    while 1:\n",
    "        print('Введите слово:')\n",
    "        k = 0\n",
    "        string = input()\n",
    "        tmp = ''.join(sorted(tmp))\n",
    "        string = ''.join(sorted(string))\n",
    "        for i in range(0, len(tmp)):\n",
    "            if tmp[i] == string[i]:\n",
    "                k = k + 1\n",
    "        if k == len(tmp):\n",
    "            print('Вы угадали !')\n",
    "            break\n",
    "        else:\n",
    "            print('Число угаданных букв')\n",
    "            print(k)\n",
    "    return word_for_game"
   ]
  },
  {
   "cell_type": "code",
   "execution_count": 334,
   "metadata": {},
   "outputs": [
    {
     "name": "stdout",
     "output_type": "stream",
     "text": [
      "седло\n",
      "Введите слово:\n",
      "седло\n",
      "Вы угадали !\n"
     ]
    },
    {
     "data": {
      "text/plain": [
       "'седло'"
      ]
     },
     "execution_count": 334,
     "metadata": {},
     "output_type": "execute_result"
    }
   ],
   "source": [
    "game_give(lines)"
   ]
  },
  {
   "cell_type": "code",
   "execution_count": 405,
   "metadata": {},
   "outputs": [],
   "source": [
    "#6Task\n",
    "\"\"\"\n",
    "Игра будет основываться на задаче 5, поиск ответов будем генерировать похожим образом.\n",
    "\"\"\"\n",
    "\n",
    "text_file = open(\"russian.txt\", \"r\")\n",
    "russian = text_file.read().split('\\n')\n",
    "text_file.close()\n",
    "    \n",
    "def game_get(lines):\n",
    "    \n",
    "    c = 0\n",
    "    d = get_anagrams(lines)\n",
    "    tmp_dict = defaultdict(list) \n",
    "    for keys in d.keys():\n",
    "        for i in range(0, len(russian)):\n",
    "            if english[i] == keys[0]:\n",
    "                if len(keys) == 5:\n",
    "                    tmp_dict[english[i]].append(d[keys]) #Составляем словарь по буквам\n",
    "    \n",
    "    print('Начинаю угадывать')\n",
    "    \n",
    "    word_for_answer = 'отель'\n",
    "    \n",
    "    all_words = set_of_words(5, lines)\n",
    "    index = np.random.randint(0, len(all_words))\n",
    "    word_for_game = all_words[index][0] #Загадываем рандомное слово\n",
    "    print(word_for_game)\n",
    "    \n",
    "    while 1:\n",
    "        c = c + 1\n",
    "        print(word_for_answer)\n",
    "        print('Введите число совпадающих букв')\n",
    "        integer = input()\n",
    "        \n",
    "        if integer == len(word_for_game):\n",
    "            print(' Угадали с попытки', c)\n",
    "        if integer == 0:\n",
    "            index = np.random.randint(0, len(all_words))\n",
    "            word_for_answer = all_words[index][0] #Загадываем рандомное слово\n",
    "        else:\n",
    "            for i in range(0, len(word_for_answer)):\n",
    "                for j in range(0, len(word_for_answer[i])):\n",
    "                    string = tmp_dict[word_for_answer[i]]\n",
    "                    if len(string) != 0:\n",
    "                        c = c + 1\n",
    "                        for s in string:\n",
    "                            for t in s:\n",
    "                                print(t)                   \n",
    "                                print('Введите число совпадающих букв')\n",
    "                                integer = input()\n",
    "                                if integer == len(word_for_game):\n",
    "                                    print(' Угадали с попытки', c)\n",
    "    return 0\n",
    "    "
   ]
  },
  {
   "cell_type": "code",
   "execution_count": 406,
   "metadata": {},
   "outputs": [
    {
     "name": "stdout",
     "output_type": "stream",
     "text": [
      "Начинаю угадывать\n",
      "корьё\n",
      "отель\n",
      "Введите число совпадающих букв\n",
      "2\n",
      "опрос\n",
      "Введите число совпадающих букв\n",
      "2\n",
      "просо\n",
      "Введите число совпадающих букв\n"
     ]
    },
    {
     "ename": "KeyboardInterrupt",
     "evalue": "",
     "output_type": "error",
     "traceback": [
      "\u001b[0;31m---------------------------------------------------------------------------\u001b[0m",
      "\u001b[0;31mKeyboardInterrupt\u001b[0m                         Traceback (most recent call last)",
      "\u001b[0;32m/Users/andrey/anaconda/lib/python3.6/site-packages/ipykernel/kernelbase.py\u001b[0m in \u001b[0;36m_input_request\u001b[0;34m(self, prompt, ident, parent, password)\u001b[0m\n\u001b[1;32m    729\u001b[0m             \u001b[0;32mtry\u001b[0m\u001b[0;34m:\u001b[0m\u001b[0;34m\u001b[0m\u001b[0m\n\u001b[0;32m--> 730\u001b[0;31m                 \u001b[0mident\u001b[0m\u001b[0;34m,\u001b[0m \u001b[0mreply\u001b[0m \u001b[0;34m=\u001b[0m \u001b[0mself\u001b[0m\u001b[0;34m.\u001b[0m\u001b[0msession\u001b[0m\u001b[0;34m.\u001b[0m\u001b[0mrecv\u001b[0m\u001b[0;34m(\u001b[0m\u001b[0mself\u001b[0m\u001b[0;34m.\u001b[0m\u001b[0mstdin_socket\u001b[0m\u001b[0;34m,\u001b[0m \u001b[0;36m0\u001b[0m\u001b[0;34m)\u001b[0m\u001b[0;34m\u001b[0m\u001b[0m\n\u001b[0m\u001b[1;32m    731\u001b[0m             \u001b[0;32mexcept\u001b[0m \u001b[0mException\u001b[0m\u001b[0;34m:\u001b[0m\u001b[0;34m\u001b[0m\u001b[0m\n",
      "\u001b[0;32m/Users/andrey/anaconda/lib/python3.6/site-packages/jupyter_client/session.py\u001b[0m in \u001b[0;36mrecv\u001b[0;34m(self, socket, mode, content, copy)\u001b[0m\n\u001b[1;32m    777\u001b[0m         \u001b[0;32mtry\u001b[0m\u001b[0;34m:\u001b[0m\u001b[0;34m\u001b[0m\u001b[0m\n\u001b[0;32m--> 778\u001b[0;31m             \u001b[0mmsg_list\u001b[0m \u001b[0;34m=\u001b[0m \u001b[0msocket\u001b[0m\u001b[0;34m.\u001b[0m\u001b[0mrecv_multipart\u001b[0m\u001b[0;34m(\u001b[0m\u001b[0mmode\u001b[0m\u001b[0;34m,\u001b[0m \u001b[0mcopy\u001b[0m\u001b[0;34m=\u001b[0m\u001b[0mcopy\u001b[0m\u001b[0;34m)\u001b[0m\u001b[0;34m\u001b[0m\u001b[0m\n\u001b[0m\u001b[1;32m    779\u001b[0m         \u001b[0;32mexcept\u001b[0m \u001b[0mzmq\u001b[0m\u001b[0;34m.\u001b[0m\u001b[0mZMQError\u001b[0m \u001b[0;32mas\u001b[0m \u001b[0me\u001b[0m\u001b[0;34m:\u001b[0m\u001b[0;34m\u001b[0m\u001b[0m\n",
      "\u001b[0;32m/Users/andrey/anaconda/lib/python3.6/site-packages/zmq/sugar/socket.py\u001b[0m in \u001b[0;36mrecv_multipart\u001b[0;34m(self, flags, copy, track)\u001b[0m\n\u001b[1;32m    394\u001b[0m         \"\"\"\n\u001b[0;32m--> 395\u001b[0;31m         \u001b[0mparts\u001b[0m \u001b[0;34m=\u001b[0m \u001b[0;34m[\u001b[0m\u001b[0mself\u001b[0m\u001b[0;34m.\u001b[0m\u001b[0mrecv\u001b[0m\u001b[0;34m(\u001b[0m\u001b[0mflags\u001b[0m\u001b[0;34m,\u001b[0m \u001b[0mcopy\u001b[0m\u001b[0;34m=\u001b[0m\u001b[0mcopy\u001b[0m\u001b[0;34m,\u001b[0m \u001b[0mtrack\u001b[0m\u001b[0;34m=\u001b[0m\u001b[0mtrack\u001b[0m\u001b[0;34m)\u001b[0m\u001b[0;34m]\u001b[0m\u001b[0;34m\u001b[0m\u001b[0m\n\u001b[0m\u001b[1;32m    396\u001b[0m         \u001b[0;31m# have first part already, only loop while more to receive\u001b[0m\u001b[0;34m\u001b[0m\u001b[0;34m\u001b[0m\u001b[0m\n",
      "\u001b[0;32mzmq/backend/cython/socket.pyx\u001b[0m in \u001b[0;36mzmq.backend.cython.socket.Socket.recv (zmq/backend/cython/socket.c:7683)\u001b[0;34m()\u001b[0m\n",
      "\u001b[0;32mzmq/backend/cython/socket.pyx\u001b[0m in \u001b[0;36mzmq.backend.cython.socket.Socket.recv (zmq/backend/cython/socket.c:7460)\u001b[0;34m()\u001b[0m\n",
      "\u001b[0;32mzmq/backend/cython/socket.pyx\u001b[0m in \u001b[0;36mzmq.backend.cython.socket._recv_copy (zmq/backend/cython/socket.c:2344)\u001b[0;34m()\u001b[0m\n",
      "\u001b[0;32m/Users/andrey/anaconda/lib/python3.6/site-packages/zmq/backend/cython/checkrc.pxd\u001b[0m in \u001b[0;36mzmq.backend.cython.checkrc._check_rc (zmq/backend/cython/socket.c:9621)\u001b[0;34m()\u001b[0m\n",
      "\u001b[0;31mKeyboardInterrupt\u001b[0m: ",
      "\nDuring handling of the above exception, another exception occurred:\n",
      "\u001b[0;31mKeyboardInterrupt\u001b[0m                         Traceback (most recent call last)",
      "\u001b[0;32m<ipython-input-406-60123d4c5884>\u001b[0m in \u001b[0;36m<module>\u001b[0;34m()\u001b[0m\n\u001b[0;32m----> 1\u001b[0;31m \u001b[0mgame_get\u001b[0m\u001b[0;34m(\u001b[0m\u001b[0mlines\u001b[0m\u001b[0;34m)\u001b[0m\u001b[0;34m\u001b[0m\u001b[0m\n\u001b[0m",
      "\u001b[0;32m<ipython-input-405-66b266be46ca>\u001b[0m in \u001b[0;36mgame_get\u001b[0;34m(lines)\u001b[0m\n\u001b[1;32m     49\u001b[0m                                 \u001b[0mprint\u001b[0m\u001b[0;34m(\u001b[0m\u001b[0mt\u001b[0m\u001b[0;34m)\u001b[0m\u001b[0;34m\u001b[0m\u001b[0m\n\u001b[1;32m     50\u001b[0m                                 \u001b[0mprint\u001b[0m\u001b[0;34m(\u001b[0m\u001b[0;34m'Введите число совпадающих букв'\u001b[0m\u001b[0;34m)\u001b[0m\u001b[0;34m\u001b[0m\u001b[0m\n\u001b[0;32m---> 51\u001b[0;31m                                 \u001b[0minteger\u001b[0m \u001b[0;34m=\u001b[0m \u001b[0minput\u001b[0m\u001b[0;34m(\u001b[0m\u001b[0;34m)\u001b[0m\u001b[0;34m\u001b[0m\u001b[0m\n\u001b[0m\u001b[1;32m     52\u001b[0m                                 \u001b[0;32mif\u001b[0m \u001b[0minteger\u001b[0m \u001b[0;34m==\u001b[0m \u001b[0mlen\u001b[0m\u001b[0;34m(\u001b[0m\u001b[0mword_for_game\u001b[0m\u001b[0;34m)\u001b[0m\u001b[0;34m:\u001b[0m\u001b[0;34m\u001b[0m\u001b[0m\n\u001b[1;32m     53\u001b[0m                                     \u001b[0mprint\u001b[0m\u001b[0;34m(\u001b[0m\u001b[0;34m' Угадали с попытки'\u001b[0m\u001b[0;34m,\u001b[0m \u001b[0mc\u001b[0m\u001b[0;34m)\u001b[0m\u001b[0;34m\u001b[0m\u001b[0m\n",
      "\u001b[0;32m/Users/andrey/anaconda/lib/python3.6/site-packages/ipykernel/kernelbase.py\u001b[0m in \u001b[0;36mraw_input\u001b[0;34m(self, prompt)\u001b[0m\n\u001b[1;32m    703\u001b[0m             \u001b[0mself\u001b[0m\u001b[0;34m.\u001b[0m\u001b[0m_parent_ident\u001b[0m\u001b[0;34m,\u001b[0m\u001b[0;34m\u001b[0m\u001b[0m\n\u001b[1;32m    704\u001b[0m             \u001b[0mself\u001b[0m\u001b[0;34m.\u001b[0m\u001b[0m_parent_header\u001b[0m\u001b[0;34m,\u001b[0m\u001b[0;34m\u001b[0m\u001b[0m\n\u001b[0;32m--> 705\u001b[0;31m             \u001b[0mpassword\u001b[0m\u001b[0;34m=\u001b[0m\u001b[0;32mFalse\u001b[0m\u001b[0;34m,\u001b[0m\u001b[0;34m\u001b[0m\u001b[0m\n\u001b[0m\u001b[1;32m    706\u001b[0m         )\n\u001b[1;32m    707\u001b[0m \u001b[0;34m\u001b[0m\u001b[0m\n",
      "\u001b[0;32m/Users/andrey/anaconda/lib/python3.6/site-packages/ipykernel/kernelbase.py\u001b[0m in \u001b[0;36m_input_request\u001b[0;34m(self, prompt, ident, parent, password)\u001b[0m\n\u001b[1;32m    733\u001b[0m             \u001b[0;32mexcept\u001b[0m \u001b[0mKeyboardInterrupt\u001b[0m\u001b[0;34m:\u001b[0m\u001b[0;34m\u001b[0m\u001b[0m\n\u001b[1;32m    734\u001b[0m                 \u001b[0;31m# re-raise KeyboardInterrupt, to truncate traceback\u001b[0m\u001b[0;34m\u001b[0m\u001b[0;34m\u001b[0m\u001b[0m\n\u001b[0;32m--> 735\u001b[0;31m                 \u001b[0;32mraise\u001b[0m \u001b[0mKeyboardInterrupt\u001b[0m\u001b[0;34m\u001b[0m\u001b[0m\n\u001b[0m\u001b[1;32m    736\u001b[0m             \u001b[0;32melse\u001b[0m\u001b[0;34m:\u001b[0m\u001b[0;34m\u001b[0m\u001b[0m\n\u001b[1;32m    737\u001b[0m                 \u001b[0;32mbreak\u001b[0m\u001b[0;34m\u001b[0m\u001b[0m\n",
      "\u001b[0;31mKeyboardInterrupt\u001b[0m: "
     ]
    }
   ],
   "source": [
    "game_get(lines)"
   ]
  },
  {
   "cell_type": "code",
   "execution_count": null,
   "metadata": {
    "collapsed": true
   },
   "outputs": [],
   "source": []
  },
  {
   "cell_type": "code",
   "execution_count": null,
   "metadata": {
    "collapsed": true
   },
   "outputs": [],
   "source": []
  }
 ],
 "metadata": {
  "kernelspec": {
   "display_name": "Python 3",
   "language": "python",
   "name": "python3"
  },
  "language_info": {
   "codemirror_mode": {
    "name": "ipython",
    "version": 3
   },
   "file_extension": ".py",
   "mimetype": "text/x-python",
   "name": "python",
   "nbconvert_exporter": "python",
   "pygments_lexer": "ipython3",
   "version": "3.6.1"
  }
 },
 "nbformat": 4,
 "nbformat_minor": 2
}
